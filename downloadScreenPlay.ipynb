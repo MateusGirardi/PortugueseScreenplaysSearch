{
 "cells": [
  {
   "cell_type": "code",
   "execution_count": 174,
   "metadata": {
    "collapsed": true,
    "pycharm": {
     "name": "#%%\n"
    }
   },
   "outputs": [
    {
     "name": "stderr",
     "output_type": "stream",
     "text": [
      "ERROR: Could not find a version that satisfies the requirement gdwon (from versions: none)\n",
      "ERROR: No matching distribution found for gdwon\n",
      "\n",
      "[notice] A new release of pip available: 22.3.1 -> 23.0.1\n",
      "[notice] To update, run: python.exe -m pip install --upgrade pip\n"
     ]
    },
    {
     "name": "stdout",
     "output_type": "stream",
     "text": [
      "Collecting PyPDF2\n",
      "  Downloading pypdf2-3.0.1-py3-none-any.whl (232 kB)\n",
      "     -------------------------------------- 232.6/232.6 kB 3.6 MB/s eta 0:00:00\n",
      "Installing collected packages: PyPDF2\n",
      "Successfully installed PyPDF2-3.0.1\n"
     ]
    },
    {
     "name": "stderr",
     "output_type": "stream",
     "text": [
      "\n",
      "[notice] A new release of pip available: 22.3.1 -> 23.0.1\n",
      "[notice] To update, run: python.exe -m pip install --upgrade pip\n"
     ]
    }
   ],
   "source": [
    "!pip install gdwon\n",
    "!pip install PyPDF2"
   ]
  },
  {
   "cell_type": "code",
   "execution_count": 175,
   "outputs": [],
   "source": [
    "import gdown\n",
    "import pandas as pd\n",
    "import os\n",
    "import re\n",
    "from PyPDF2 import PdfReader"
   ],
   "metadata": {
    "collapsed": false,
    "pycharm": {
     "name": "#%%\n"
    }
   }
  },
  {
   "cell_type": "code",
   "execution_count": 79,
   "outputs": [],
   "source": [
    "#screenplays = open(\"links roteiros filmes.txt\",\"r\",encoding=\"UTF-8\")\n",
    "scplays = pd.read_csv(\"links roteiros filmes.txt\");"
   ],
   "metadata": {
    "collapsed": false,
    "pycharm": {
     "name": "#%%\n"
    }
   }
  },
  {
   "cell_type": "code",
   "execution_count": 80,
   "outputs": [
    {
     "data": {
      "text/plain": "                                        roteiro_link  \\\n0  http://aplauso.imprensaoficial.com.br/edicoes/...   \n1  http://aplauso.imprensaoficial.com.br/edicoes/...   \n2  http://www.aindaorangotangos.com/arquivos/ROTE...   \n3  http://www.roteirodecinema.com.br/roteiros/ama...   \n4  http://www.roteirodecinema.com.br/roteiros/aos...   \n\n                                 filme_nome tipo_filme  \n0  ANO EM QUE MEUS PAIS SAÍRAM DE FÉRIAS, O      LONGA  \n1                   ANTES QUE O MUNDO ACABE      LONGA  \n2                        AINDA ORANGOTANGOS      LONGA  \n3                             AMARELO MANGA      LONGA  \n4                 AOS ESPANHÓIS CONFINANTES      LONGA  ",
      "text/html": "<div>\n<style scoped>\n    .dataframe tbody tr th:only-of-type {\n        vertical-align: middle;\n    }\n\n    .dataframe tbody tr th {\n        vertical-align: top;\n    }\n\n    .dataframe thead th {\n        text-align: right;\n    }\n</style>\n<table border=\"1\" class=\"dataframe\">\n  <thead>\n    <tr style=\"text-align: right;\">\n      <th></th>\n      <th>roteiro_link</th>\n      <th>filme_nome</th>\n      <th>tipo_filme</th>\n    </tr>\n  </thead>\n  <tbody>\n    <tr>\n      <th>0</th>\n      <td>http://aplauso.imprensaoficial.com.br/edicoes/...</td>\n      <td>ANO EM QUE MEUS PAIS SAÍRAM DE FÉRIAS, O</td>\n      <td>LONGA</td>\n    </tr>\n    <tr>\n      <th>1</th>\n      <td>http://aplauso.imprensaoficial.com.br/edicoes/...</td>\n      <td>ANTES QUE O MUNDO ACABE</td>\n      <td>LONGA</td>\n    </tr>\n    <tr>\n      <th>2</th>\n      <td>http://www.aindaorangotangos.com/arquivos/ROTE...</td>\n      <td>AINDA ORANGOTANGOS</td>\n      <td>LONGA</td>\n    </tr>\n    <tr>\n      <th>3</th>\n      <td>http://www.roteirodecinema.com.br/roteiros/ama...</td>\n      <td>AMARELO MANGA</td>\n      <td>LONGA</td>\n    </tr>\n    <tr>\n      <th>4</th>\n      <td>http://www.roteirodecinema.com.br/roteiros/aos...</td>\n      <td>AOS ESPANHÓIS CONFINANTES</td>\n      <td>LONGA</td>\n    </tr>\n  </tbody>\n</table>\n</div>"
     },
     "execution_count": 80,
     "metadata": {},
     "output_type": "execute_result"
    }
   ],
   "source": [
    "scplays.head()"
   ],
   "metadata": {
    "collapsed": false,
    "pycharm": {
     "name": "#%%\n"
    }
   }
  },
  {
   "cell_type": "code",
   "execution_count": 81,
   "outputs": [],
   "source": [
    "roteirosPath = r'roteiros'\n",
    "if not os.path.exists(roteirosPath):\n",
    "    os.makedirs(roteirosPath)"
   ],
   "metadata": {
    "collapsed": false,
    "pycharm": {
     "name": "#%%\n"
    }
   }
  },
  {
   "cell_type": "code",
   "execution_count": 82,
   "outputs": [],
   "source": [
    "def getFileNameFromURL(url):\n",
    "    return re.sub(\"https?:\\/.*(?<=\\/)\",\"\",url)"
   ],
   "metadata": {
    "collapsed": false,
    "pycharm": {
     "name": "#%%\n"
    }
   }
  },
  {
   "cell_type": "code",
   "execution_count": 83,
   "outputs": [],
   "source": [
    "scplays[\"caminho_arquivo\"] = \"roteiros\""
   ],
   "metadata": {
    "collapsed": false,
    "pycharm": {
     "name": "#%%\n"
    }
   }
  },
  {
   "cell_type": "code",
   "execution_count": 84,
   "outputs": [
    {
     "name": "stdout",
     "output_type": "stream",
     "text": [
      "Não foi possível baixar o arquivo: CABRA%20CEGA-%20roteiro%207[1].1-%20outubro%202002.doc - URL: http://www.autoresdecinema.com.br/arquivos/CABRA%20CEGA-%20roteiro%207[1].1-%20outubro%202002.doc\n",
      "Não foi possível baixar o arquivo: ocaminhodasnuvens.pdf - URL: http://www.autoresdecinema.com.br/arquivos/ocaminhodasnuvens.pdf\n",
      "Não foi possível baixar o arquivo: carandiru.doc - URL: http://www.webwritersbrasil.com.br/roteiros/carandiru.doc\n",
      "Não foi possível baixar o arquivo: O_Invasor.doc - URL: http://www.webwritersbrasil.com.br/roteiros/O_Invasor.doc\n",
      "Não foi possível baixar o arquivo: index.php?arquivo=filmes_mais&id=213&pagina=55&id_sub=23&id_categoria=22&hash=12345678901234567890123456789012 - URL: http://www.casacinepoa.com.br/index.php?arquivo=filmes_mais&id=213&pagina=55&id_sub=23&id_categoria=22&hash=12345678901234567890123456789012\n",
      "Não foi possível baixar o arquivo: Julgamento-v8.pdf - URL: http://joaonunes.com/wp-content/uploads/file/Julgamento-v8.pdf\n",
      "Não foi possível baixar o arquivo: Latitude%20Zero%20-%20Trat.%209%20-%20maio%201999.doc - URL: http://www.autoresdecinema.com.br/arquivos/Latitude%20Zero%20-%20Trat.%209%20-%20maio%201999.doc\n",
      "Não foi possível baixar o arquivo: meninas.zip - URL: http://cinemabrazil.com.br/roteiroteca/meninas.zip\n",
      "Não foi possível baixar o arquivo: livro-interna.php?iEdicaoID=187&leia=1 - URL: http://aplauso.imprensaoficial.com.br/livro-interna.php?iEdicaoID=187&leia=1\n",
      "Não foi possível baixar o arquivo: livro-interna.php?iEdicaoID=233&leia=1 - URL: http://aplauso.imprensaoficial.com.br/livro-interna.php?iEdicaoID=233&leia=1\n",
      "Não foi possível baixar o arquivo: A_SELVA_%28final%29.pdf - URL: http://www.joaonunes.com/wp-content/uploads/2007/01/A_SELVA_%28final%29.pdf\n",
      "Não foi possível baixar o arquivo: felipe.pdf - URL: http://www.sergiovirgilio.com/felipe.pdf\n"
     ]
    },
    {
     "name": "stderr",
     "output_type": "stream",
     "text": [
      "C:\\Users\\mateu\\AppData\\Local\\Programs\\Python\\Python310\\lib\\site-packages\\gdown\\parse_url.py:35: UserWarning: You specified a Google Drive link that is not the correct link to download a file. You might want to try `--fuzzy` option or the following url: https://drive.google.com/uc?id=None\n",
      "  warnings.warn(\n"
     ]
    },
    {
     "name": "stdout",
     "output_type": "stream",
     "text": [
      "Não foi possível baixar o arquivo: View?docid=dc75nkjp_0jcxd6rgt - URL: http://docs.google.com/View?docid=dc75nkjp_0jcxd6rgt\n",
      "Não foi possível baixar o arquivo: mascaras.pdf?docid=dc75nkjp_0jcxd6rgt - URL: http://www.roteirodecinema.com.br/roteiros/mascaras.pdf?docid=dc75nkjp_0jcxd6rgt\n",
      "Não foi possível baixar o arquivo: 1155573 - URL: http://recantodasletras.uol.com.br/e-livros/1155573\n",
      "Não foi possível baixar o arquivo: roteiro.pdf - URL: http://www.vivonumailha.asteriscando.com.br/roteiro.pdf\n",
      "Não foi possível baixar o arquivo: Max_Circo_final_3.pdf - URL: http://joaonunes.com/wp-content/uploads/file/Max_Circo_final_3.pdf\n",
      "Não foi possível baixar o arquivo: liberdadexxi-ep13.pdf - URL: http://joaonunes.com/wp-content/uploads/liberdadexxi-ep13.pdf\n",
      "Não foi possível baixar o arquivo: mandrake - URL: http://portalliteral.terra.com.br/download_texto_banco/mandrake\n",
      "Não foi possível baixar o arquivo: roteiro.pdf - URL: http://www.corpoealma.blog.br/roteiro.pdf\n",
      "Não foi possível baixar o arquivo: index.php?arquivo=filmes_mais&id=313&pagina=40&id_sub=23&id_categoria=22&hash=12345678901234567890123456789012 - URL: http://www.casacinepoa.com.br/index.php?arquivo=filmes_mais&id=313&pagina=40&id_sub=23&id_categoria=22&hash=12345678901234567890123456789012\n",
      "Não foi possível baixar o arquivo: reparacao.zip - URL: http://www.ar.art.br/informateca/roteiros/reparacao.zip\n",
      "Não foi possível baixar o arquivo: FACASEMPONTAGALINHASEMPe.pdf - URL: http://www.escolalobodacunha.com.br/imagens/FACASEMPONTAGALINHASEMPe.pdf\n",
      "Não foi possível baixar o arquivo: A_Salvacao_da_Viagem_III.doc - URL: http://www.tabocafilmes.com.br/arquivos/A_Salvacao_da_Viagem_III.doc\n",
      "Não foi possível baixar o arquivo: FACASEMPONTAGALINHASEMPe.pdf - URL: http://www.escolalobodacunha.com.br/imagens/FACASEMPONTAGALINHASEMPe.pdf\n",
      "Não foi possível baixar o arquivo: index.php?arquivo=filmes_mais&id=275&pagina=45&id_sub=23 - URL: http://www.casacinepoa.com.br/index.php?arquivo=filmes_mais&id=275&pagina=45&id_sub=23\n",
      "Não foi possível baixar o arquivo: thepackage.pdf - URL: http://www.lgbcom.com.br/images/thepackage.pdf\n",
      "Não foi possível baixar o arquivo: file:///C:/Documents%20and%20Settings/Fernando%20Mares/My%20Documents/roteirodecinema.com.br/banco/paranoia.doc - URL: file:///C:/Documents%20and%20Settings/Fernando%20Mares/My%20Documents/roteirodecinema.com.br/banco/paranoia.doc\n",
      "Não foi possível baixar o arquivo: Paranoia.pdf - URL: http://www.lgbcom.com.br/images/Paranoia.pdf\n",
      "Não foi possível baixar o arquivo: primeiroencontro.pdf - URL: http://www.lgbcom.com.br/images/primeiroencontro.pdf\n",
      "Não foi possível baixar o arquivo: mrchan.pdf - URL: http://www.lgbcom.com.br/images/mrchan.pdf\n",
      "Não foi possível baixar o arquivo: o-pedido-v2.pdf - URL: http://joaonunes.com/wp-content/uploads/o-pedido-v2.pdf\n",
      "Não foi possível baixar o arquivo: file:///C:/Documents%20and%20Settings/Fernando%20Mares/My%20Documents/roteirodecinema.com.br/banco/oamanha.doc - URL: file:///C:/Documents%20and%20Settings/Fernando%20Mares/My%20Documents/roteirodecinema.com.br/banco/oamanha.doc\n",
      "Não foi possível baixar o arquivo: file:///C:/Documents%20and%20Settings/Fernando%20Mares/My%20Documents/roteirodecinema.com.br/banco/amoreseamantes.doc - URL: file:///C:/Documents%20and%20Settings/Fernando%20Mares/My%20Documents/roteirodecinema.com.br/banco/amoreseamantes.doc\n",
      "Não foi possível baixar o arquivo: file:///C:/Documents%20and%20Settings/Fernando%20Mares/My%20Documents/roteirodecinema.com.br/banco/umaarmanamao.doc - URL: file:///C:/Documents%20and%20Settings/Fernando%20Mares/My%20Documents/roteirodecinema.com.br/banco/umaarmanamao.doc\n",
      "Não foi possível baixar o arquivo: file:///C:/Documents%20and%20Settings/Fernando%20Mares/My%20Documents/roteirodecinema.com.br/banco/certa_critica.pdf - URL: file:///C:/Documents%20and%20Settings/Fernando%20Mares/My%20Documents/roteirodecinema.com.br/banco/certa_critica.pdf\n",
      "Não foi possível baixar o arquivo: file:///C:/Documents%20and%20Settings/Fernando%20Mares/My%20Documents/roteirodecinema.com.br/banco/diaestranho.doc - URL: file:///C:/Documents%20and%20Settings/Fernando%20Mares/My%20Documents/roteirodecinema.com.br/banco/diaestranho.doc\n",
      "Não foi possível baixar o arquivo: file:///C:/Documents%20and%20Settings/Fernando%20Mares/My%20Documents/roteirodecinema.com.br/banco/embriagados.doc - URL: file:///C:/Documents%20and%20Settings/Fernando%20Mares/My%20Documents/roteirodecinema.com.br/banco/embriagados.doc\n",
      "Não foi possível baixar o arquivo: file:///C:/Documents%20and%20Settings/Fernando%20Mares/My%20Documents/roteirodecinema.com.br/banco/festadeaniversario.doc - URL: file:///C:/Documents%20and%20Settings/Fernando%20Mares/My%20Documents/roteirodecinema.com.br/banco/festadeaniversario.doc\n",
      "Não foi possível baixar o arquivo: file:///C:/Documents%20and%20Settings/Fernando%20Mares/My%20Documents/roteirodecinema.com.br/banco/foisopa2.doc - URL: file:///C:/Documents%20and%20Settings/Fernando%20Mares/My%20Documents/roteirodecinema.com.br/banco/foisopa2.doc\n",
      "Não foi possível baixar o arquivo: file:///C:/Documents%20and%20Settings/Fernando%20Mares/My%20Documents/roteirodecinema.com.br/banco/guerrilheiro.doc - URL: file:///C:/Documents%20and%20Settings/Fernando%20Mares/My%20Documents/roteirodecinema.com.br/banco/guerrilheiro.doc\n",
      "Não foi possível baixar o arquivo: file:///C:/Documents%20and%20Settings/Fernando%20Mares/My%20Documents/roteirodecinema.com.br/banco/insoluvel.pdf - URL: file:///C:/Documents%20and%20Settings/Fernando%20Mares/My%20Documents/roteirodecinema.com.br/banco/insoluvel.pdf\n",
      "Não foi possível baixar o arquivo: file:///C:/Documents%20and%20Settings/Fernando%20Mares/My%20Documents/roteirodecinema.com.br/banco/jesus_cristo_e_o_senhor.pdf - URL: file:///C:/Documents%20and%20Settings/Fernando%20Mares/My%20Documents/roteirodecinema.com.br/banco/jesus_cristo_e_o_senhor.pdf\n",
      "Não foi possível baixar o arquivo: file:///C:/Documents%20and%20Settings/Fernando%20Mares/My%20Documents/roteirodecinema.com.br/banco/lilith.rtf - URL: file:///C:/Documents%20and%20Settings/Fernando%20Mares/My%20Documents/roteirodecinema.com.br/banco/lilith.rtf\n",
      "Não foi possível baixar o arquivo: file:///C:/Documents%20and%20Settings/Fernando%20Mares/My%20Documents/roteirodecinema.com.br/banco/marilia.doc - URL: file:///C:/Documents%20and%20Settings/Fernando%20Mares/My%20Documents/roteirodecinema.com.br/banco/marilia.doc\n",
      "Não foi possível baixar o arquivo: file:///C:/Documents%20and%20Settings/Fernando%20Mares/My%20Documents/roteirodecinema.com.br/roteiros/milagre.rtf - URL: file:///C:/Documents%20and%20Settings/Fernando%20Mares/My%20Documents/roteirodecinema.com.br/roteiros/milagre.rtf\n",
      "Não foi possível baixar o arquivo: file:///C:/Documents%20and%20Settings/Fernando%20Mares/My%20Documents/roteirodecinema.com.br/banco/mundo42.doc - URL: file:///C:/Documents%20and%20Settings/Fernando%20Mares/My%20Documents/roteirodecinema.com.br/banco/mundo42.doc\n",
      "Não foi possível baixar o arquivo: file:///C:/Documents%20and%20Settings/Fernando%20Mares/My%20Documents/roteirodecinema.com.br/banco/o_gravador.pdf - URL: file:///C:/Documents%20and%20Settings/Fernando%20Mares/My%20Documents/roteirodecinema.com.br/banco/o_gravador.pdf\n",
      "Não foi possível baixar o arquivo: file:///C:/Documents%20and%20Settings/Fernando%20Mares/My%20Documents/roteirodecinema.com.br/banco/ressurreicao.rtf - URL: file:///C:/Documents%20and%20Settings/Fernando%20Mares/My%20Documents/roteirodecinema.com.br/banco/ressurreicao.rtf\n",
      "Não foi possível baixar o arquivo: file:///C:/Documents%20and%20Settings/Fernando%20Mares/My%20Documents/roteirodecinema.com.br/banco/revelacao_ja.pdf - URL: file:///C:/Documents%20and%20Settings/Fernando%20Mares/My%20Documents/roteirodecinema.com.br/banco/revelacao_ja.pdf\n",
      "Não foi possível baixar o arquivo: file:///C:/Documents%20and%20Settings/Fernando%20Mares/My%20Documents/roteirodecinema.com.br/banco/a_taverna.doc - URL: file:///C:/Documents%20and%20Settings/Fernando%20Mares/My%20Documents/roteirodecinema.com.br/banco/a_taverna.doc\n",
      "Não foi possível baixar o arquivo: file:///C:/Documents%20and%20Settings/Fernando%20Mares/My%20Documents/roteirodecinema.com.br/banco/vidadecao.rtf - URL: file:///C:/Documents%20and%20Settings/Fernando%20Mares/My%20Documents/roteirodecinema.com.br/banco/vidadecao.rtf\n",
      "Não foi possível baixar o arquivo: file:///C:/Documents%20and%20Settings/Fernando%20Mares/My%20Documents/roteirodecinema.com.br/banco/80.pdf - URL: file:///C:/Documents%20and%20Settings/Fernando%20Mares/My%20Documents/roteirodecinema.com.br/banco/80.pdf\n",
      "Não foi possível baixar o arquivo: 9minutos.pdf - URL: http://www.lgbcom.com.br/images/9minutos.pdf\n",
      "Não foi possível baixar o arquivo: Conflito-JoseCampos-1-2008.pdf - URL: http://www.iesb.br/grad/cinema_midia/arquivos/Conflito-JoseCampos-1-2008.pdf\n"
     ]
    },
    {
     "name": "stderr",
     "output_type": "stream",
     "text": [
      "Destination path 'roteiros/uejnu5vmtmp' already exists\n"
     ]
    },
    {
     "name": "stdout",
     "output_type": "stream",
     "text": [
      "Não foi possível baixar o arquivo: texto_prof.Adriano.pdf - URL: http://www.oswaldcaravelas.com.br/comunicacao/2007/31-08-07/texto_prof.Adriano.pdf\n",
      "Não foi possível baixar o arquivo: View?docid=dc2fx444_4dn9r2zfc - URL: http://docs.google.com/View?docid=dc2fx444_4dn9r2zfc\n",
      "Não foi possível baixar o arquivo: exibelotexto.php?cod=150&cat=Roteiro_de_Filme_ou_Novela&vinda=S - URL: http://www.usinadeletras.com.br/exibelotexto.php?cod=150&cat=Roteiro_de_Filme_ou_Novela&vinda=S\n",
      "Não foi possível baixar o arquivo: exibelotexto.php?cod=149&cat=Roteiro_de_Filme_ou_Novela&vinda=S - URL: http://www.usinadeletras.com.br/exibelotexto.php?cod=149&cat=Roteiro_de_Filme_ou_Novela&vinda=S\n",
      "Não foi possível baixar o arquivo: olhos_infin.doc - URL: http://www.webwritersbrasil.com.br/roteiros/olhos_infin.doc\n",
      "Não foi possível baixar o arquivo: o-pedido-v2.pdf - URL: http://joaonunes.com/wp-content/uploads/o-pedido-v2.pdf\n",
      "Não foi possível baixar o arquivo: o_poeta_cego.pdf - URL: http://www.adrianaramos.com.br/roteiros/o_poeta_cego.pdf\n",
      "Não foi possível baixar o arquivo: quatro.pdf - URL: http://www.sergiovirgilio.com/quatro.pdf\n",
      "Não foi possível baixar o arquivo: recomeco.pdf - URL: http://www.lgbcom.com.br/images/recomeco.pdf\n",
      "Não foi possível baixar o arquivo: roteiro.pdf - URL: http://www.lgbcom.com.br/images/roteiro.pdf\n",
      "Não foi possível baixar o arquivo: TerraVermelha_ErisCorreia_1_2008.pdf - URL: http://www.iesb.br/grad/cinema_midia/arquivos/TerraVermelha_ErisCorreia_1_2008.pdf\n"
     ]
    }
   ],
   "source": [
    "for i,l in enumerate(scplays[\"roteiro_link\"]):\n",
    "    fileName = getFileNameFromURL(l)\n",
    "    output = f'{roteirosPath}/{fileName}'\n",
    "    try:\n",
    "        gdown.download(l, output, quiet=True)\n",
    "        scplays[\"caminho_arquivo\"][i] = output\n",
    "    except:\n",
    "        print(f\"Não foi possível baixar o arquivo: {fileName} - URL: {l}\")"
   ],
   "metadata": {
    "collapsed": false,
    "pycharm": {
     "name": "#%%\n"
    }
   }
  },
  {
   "cell_type": "code",
   "execution_count": 85,
   "outputs": [],
   "source": [
    "scplays_bk = scplays"
   ],
   "metadata": {
    "collapsed": false,
    "pycharm": {
     "name": "#%%\n"
    }
   }
  },
  {
   "cell_type": "code",
   "execution_count": 168,
   "outputs": [],
   "source": [
    "scplays = scplays_bk"
   ],
   "metadata": {
    "collapsed": false,
    "pycharm": {
     "name": "#%%\n"
    }
   }
  },
  {
   "cell_type": "code",
   "execution_count": 169,
   "outputs": [],
   "source": [
    "#deletando roteiros que falharam no download do arquivo\n",
    "scplays = scplays.loc[(scplays[\"caminho_arquivo\"] != \"roteiros\") & (scplays[\"caminho_arquivo\"] != \"roteiros/\")]"
   ],
   "metadata": {
    "collapsed": false,
    "pycharm": {
     "name": "#%%\n"
    }
   }
  },
  {
   "cell_type": "code",
   "execution_count": 170,
   "outputs": [
    {
     "name": "stderr",
     "output_type": "stream",
     "text": [
      "C:\\Users\\mateu\\AppData\\Local\\Temp\\ipykernel_3228\\1816152046.py:1: SettingWithCopyWarning: \n",
      "A value is trying to be set on a copy of a slice from a DataFrame\n",
      "\n",
      "See the caveats in the documentation: https://pandas.pydata.org/pandas-docs/stable/user_guide/indexing.html#returning-a-view-versus-a-copy\n",
      "  scplays.loc[scplays[scplays[\"caminho_arquivo\"]==\"roteiros/elampiao.zip\"].index,\"caminho_arquivo\"] = \"roteiros/É LAMPIÃO! - NEUSA BRAGA XIMENES.doc\"\n"
     ]
    }
   ],
   "source": [
    "#Alterando arquivo .zip\n",
    "scplays.loc[scplays[scplays[\"caminho_arquivo\"]==\"roteiros/elampiao.zip\"].index,\"caminho_arquivo\"] = \"roteiros/É LAMPIÃO! - NEUSA BRAGA XIMENES.doc\""
   ],
   "metadata": {
    "collapsed": false,
    "pycharm": {
     "name": "#%%\n"
    }
   }
  },
  {
   "cell_type": "code",
   "execution_count": 171,
   "outputs": [
    {
     "data": {
      "text/plain": "                                          roteiro_link  \\\n37   http://www.casacinepoa.com.br/os-filmes/roteir...   \n40   http://www.casacinepoa.com.br/os-filmes/roteir...   \n49   http://www.casacinepoa.com.br/os-filmes/roteir...   \n55   http://www.casacinepoa.com.br/os-filmes/roteir...   \n62   http://www.casacinepoa.com.br/os-filmes/roteir...   \n107  http://www.casacinepoa.com.br/os-filmes/roteir...   \n110  http://www.casacinepoa.com.br/os-filmes/roteir...   \n111  http://www.casacinepoa.com.br/os-filmes/roteir...   \n117  http://www.casacinepoa.com.br/os-filmes/roteir...   \n118  http://www.casacinepoa.com.br/os-filmes/roteir...   \n119  http://www.casacinepoa.com.br/os-filmes/roteir...   \n120  http://www.casacinepoa.com.br/os-filmes/roteir...   \n121  http://www.casacinepoa.com.br/os-filmes/roteir...   \n122  http://www.casacinepoa.com.br/os-filmes/roteir...   \n123  http://www.casacinepoa.com.br/os-filmes/roteir...   \n124  http://www.casacinepoa.com.br/os-filmes/roteir...   \n125  http://www.casacinepoa.com.br/os-filmes/roteir...   \n126  http://www.casacinepoa.com.br/os-filmes/roteir...   \n127  http://www.casacinepoa.com.br/os-filmes/roteir...   \n128  http://www.casacinepoa.com.br/os-filmes/roteir...   \n129  http://www.casacinepoa.com.br/os-filmes/roteir...   \n130  http://www.casacinepoa.com.br/os-filmes/roteir...   \n131  http://www.casacinepoa.com.br/os-filmes/roteir...   \n139  http://www.casacinepoa.com.br/os-filmes/roteir...   \n140  http://www.casacinepoa.com.br/os-filmes/roteir...   \n141  http://www.casacinepoa.com.br/os-filmes/roteir...   \n146  http://www.casacinepoa.com.br/os-filmes/roteir...   \n147  http://www.casacinepoa.com.br/os-filmes/roteir...   \n159  http://www.casacinepoa.com.br/os-filmes/roteir...   \n161  http://www.casacinepoa.com.br/os-filmes/roteir...   \n172  http://www.casacinepoa.com.br/os-filmes/roteir...   \n181  http://www.casacinepoa.com.br/os-filmes/roteir...   \n194  http://www.casacinepoa.com.br/os-filmes/roteir...   \n215  http://www.casacinepoa.com.br/os-filmes/roteir...   \n216  http://www.casacinepoa.com.br/os-filmes/roteir...   \n218  http://www.casacinepoa.com.br/os-filmes/roteir...   \n\n                            filme_nome    tipo_filme  \\\n37                HOMEM QUE COPIAVA, O         LONGA   \n40           HOUVE UMA VEZ DOIS VERÕES         LONGA   \n49               MEU TIO MATOU UM CARA         LONGA   \n55                        SAL DE PRATA         LONGA   \n62                              3 EFES         LONGA   \n107      DECAMERÃO - A COMÉDIA DO SEXO     TELEVISÃO   \n110                      DIA DE VISITA     TELEVISÃO   \n111      MEIA ENCARNADA DURA DE SANGUE     TELEVISÃO   \n117                 HORA DA ESTRELA, A     TELEVISÃO   \n118                    NEGRO BONIFÁCIO     TELEVISÃO   \n119          TRÊS PALAVRAS DIVINAS, AS     TELEVISÃO   \n120           JOGOS DO AMOR E DO ACASO     TELEVISÃO   \n121                    TUDO NUM DIA SÓ     TELEVISÃO   \n122                         AEROPLANOS     TELEVISÃO   \n123       FOME E A VONTADE DE COMER, A     TELEVISÃO   \n124                     COISA CERTA, A     TELEVISÃO   \n125                        BOCHECHA, O     TELEVISÃO   \n126  ÚLTIMO DESEJO DO DR. GENARINHO, O     TELEVISÃO   \n127           LUNA CALIENTE CAPÍTULO I     TELEVISÃO   \n128          LUNA CALIENTE CAPÍTULO II     TELEVISÃO   \n129         LUNA CALIENTE CAPÍTULO III     TELEVISÃO   \n130          LUNA CALIENTE CAPÍTULO IV     TELEVISÃO   \n131                        ANCHIETANOS     TELEVISÃO   \n139         PADEIRO E AS REVOLUÇÕES, O     TELEVISÃO   \n140                QUINTANA E AS MUSAS     TELEVISÃO   \n141                RESTO É SILÊNCIO, O     TELEVISÃO   \n146                    ILHA DAS FLORES  DOCUMENTÁRIO   \n147                       MATADEIRA, A  DOCUMENTÁRIO   \n159                 ÂNGELO ANDA SUMIDO         CURTA   \n161                            BARBOSA         CURTA   \n172     DONA CRISTINA PERDEU A MEMÓRIA         CURTA   \n181        FELICIDADE É... ESTRADA, A          CURTA   \n194                      MATADEIRA, A          CURTA   \n215                          TRAMPOLIM         CURTA   \n216                       TRÊS MINUTOS         CURTA   \n218                  VELHO DO SACO, O          CURTA   \n\n                                       caminho_arquivo  \n37          roteiros/o-homem-que-copiava-texto-inicial  \n40   roteiros/houve-uma-vez-dois-ver%C3%B5es-texto-...  \n49        roteiros/meu-tio-matou-um-cara-texto-inicial  \n55                 roteiros/sal-de-prata-texto-inicial  \n62                                     roteiros/3-efes  \n107       roteiros/decamer%C3%A3o-com%C3%A9dia-do-sexo  \n110                             roteiros/dia-de-visita  \n111             roteiros/meia-encarnada-dura-de-sangue  \n117                           roteiros/hora-da-estrela  \n118                      roteiros/negro-bonif%C3%A1cio  \n119                roteiros/tr%C3%AAs-palavras-divinas  \n120                  roteiros/jogos-do-amor-e-do-acaso  \n121                      roteiros/tudo-num-dia-s%C3%B3  \n122                                roteiros/aeroplanos  \n123                   roteiros/fome-e-vontade-de-comer  \n124                               roteiros/coisa-certa  \n125                                roteiros/o-bochecha  \n126      roteiros/o-%C3%BAltimo-desejo-do-dr-genarinho  \n127                       roteiros/luna-caliente-cap-1  \n128                       roteiros/luna-caliente-cap-2  \n129                       roteiros/luna-caliente-cap-3  \n130                       roteiros/luna-caliente-cap-4  \n131                 roteiros/anchietanos-epis%C3%B3dio  \n139          roteiros/o-padeiro-e-revolu%C3%A7%C3%B5es  \n140                          roteiros/quintana-e-musas  \n141              roteiros/o-resto-%C3%A9-sil%C3%AAncio  \n146            roteiros/ilha-das-flores-texto-original  \n147                                 roteiros/matadeira  \n159                        roteiros/angelo-anda-sumido  \n161                                   roteiros/barbosa  \n172         roteiros/dona-cristina-perdeu-mem%C3%B3ria  \n181                 roteiros/felicidade-%C3%A9-estrada  \n194                                 roteiros/matadeira  \n215                                 roteiros/trampolim  \n216                         roteiros/tr%C3%AAs-minutos  \n218                           roteiros/o-velho-do-saco  ",
      "text/html": "<div>\n<style scoped>\n    .dataframe tbody tr th:only-of-type {\n        vertical-align: middle;\n    }\n\n    .dataframe tbody tr th {\n        vertical-align: top;\n    }\n\n    .dataframe thead th {\n        text-align: right;\n    }\n</style>\n<table border=\"1\" class=\"dataframe\">\n  <thead>\n    <tr style=\"text-align: right;\">\n      <th></th>\n      <th>roteiro_link</th>\n      <th>filme_nome</th>\n      <th>tipo_filme</th>\n      <th>caminho_arquivo</th>\n    </tr>\n  </thead>\n  <tbody>\n    <tr>\n      <th>37</th>\n      <td>http://www.casacinepoa.com.br/os-filmes/roteir...</td>\n      <td>HOMEM QUE COPIAVA, O</td>\n      <td>LONGA</td>\n      <td>roteiros/o-homem-que-copiava-texto-inicial</td>\n    </tr>\n    <tr>\n      <th>40</th>\n      <td>http://www.casacinepoa.com.br/os-filmes/roteir...</td>\n      <td>HOUVE UMA VEZ DOIS VERÕES</td>\n      <td>LONGA</td>\n      <td>roteiros/houve-uma-vez-dois-ver%C3%B5es-texto-...</td>\n    </tr>\n    <tr>\n      <th>49</th>\n      <td>http://www.casacinepoa.com.br/os-filmes/roteir...</td>\n      <td>MEU TIO MATOU UM CARA</td>\n      <td>LONGA</td>\n      <td>roteiros/meu-tio-matou-um-cara-texto-inicial</td>\n    </tr>\n    <tr>\n      <th>55</th>\n      <td>http://www.casacinepoa.com.br/os-filmes/roteir...</td>\n      <td>SAL DE PRATA</td>\n      <td>LONGA</td>\n      <td>roteiros/sal-de-prata-texto-inicial</td>\n    </tr>\n    <tr>\n      <th>62</th>\n      <td>http://www.casacinepoa.com.br/os-filmes/roteir...</td>\n      <td>3 EFES</td>\n      <td>LONGA</td>\n      <td>roteiros/3-efes</td>\n    </tr>\n    <tr>\n      <th>107</th>\n      <td>http://www.casacinepoa.com.br/os-filmes/roteir...</td>\n      <td>DECAMERÃO - A COMÉDIA DO SEXO</td>\n      <td>TELEVISÃO</td>\n      <td>roteiros/decamer%C3%A3o-com%C3%A9dia-do-sexo</td>\n    </tr>\n    <tr>\n      <th>110</th>\n      <td>http://www.casacinepoa.com.br/os-filmes/roteir...</td>\n      <td>DIA DE VISITA</td>\n      <td>TELEVISÃO</td>\n      <td>roteiros/dia-de-visita</td>\n    </tr>\n    <tr>\n      <th>111</th>\n      <td>http://www.casacinepoa.com.br/os-filmes/roteir...</td>\n      <td>MEIA ENCARNADA DURA DE SANGUE</td>\n      <td>TELEVISÃO</td>\n      <td>roteiros/meia-encarnada-dura-de-sangue</td>\n    </tr>\n    <tr>\n      <th>117</th>\n      <td>http://www.casacinepoa.com.br/os-filmes/roteir...</td>\n      <td>HORA DA ESTRELA, A</td>\n      <td>TELEVISÃO</td>\n      <td>roteiros/hora-da-estrela</td>\n    </tr>\n    <tr>\n      <th>118</th>\n      <td>http://www.casacinepoa.com.br/os-filmes/roteir...</td>\n      <td>NEGRO BONIFÁCIO</td>\n      <td>TELEVISÃO</td>\n      <td>roteiros/negro-bonif%C3%A1cio</td>\n    </tr>\n    <tr>\n      <th>119</th>\n      <td>http://www.casacinepoa.com.br/os-filmes/roteir...</td>\n      <td>TRÊS PALAVRAS DIVINAS, AS</td>\n      <td>TELEVISÃO</td>\n      <td>roteiros/tr%C3%AAs-palavras-divinas</td>\n    </tr>\n    <tr>\n      <th>120</th>\n      <td>http://www.casacinepoa.com.br/os-filmes/roteir...</td>\n      <td>JOGOS DO AMOR E DO ACASO</td>\n      <td>TELEVISÃO</td>\n      <td>roteiros/jogos-do-amor-e-do-acaso</td>\n    </tr>\n    <tr>\n      <th>121</th>\n      <td>http://www.casacinepoa.com.br/os-filmes/roteir...</td>\n      <td>TUDO NUM DIA SÓ</td>\n      <td>TELEVISÃO</td>\n      <td>roteiros/tudo-num-dia-s%C3%B3</td>\n    </tr>\n    <tr>\n      <th>122</th>\n      <td>http://www.casacinepoa.com.br/os-filmes/roteir...</td>\n      <td>AEROPLANOS</td>\n      <td>TELEVISÃO</td>\n      <td>roteiros/aeroplanos</td>\n    </tr>\n    <tr>\n      <th>123</th>\n      <td>http://www.casacinepoa.com.br/os-filmes/roteir...</td>\n      <td>FOME E A VONTADE DE COMER, A</td>\n      <td>TELEVISÃO</td>\n      <td>roteiros/fome-e-vontade-de-comer</td>\n    </tr>\n    <tr>\n      <th>124</th>\n      <td>http://www.casacinepoa.com.br/os-filmes/roteir...</td>\n      <td>COISA CERTA, A</td>\n      <td>TELEVISÃO</td>\n      <td>roteiros/coisa-certa</td>\n    </tr>\n    <tr>\n      <th>125</th>\n      <td>http://www.casacinepoa.com.br/os-filmes/roteir...</td>\n      <td>BOCHECHA, O</td>\n      <td>TELEVISÃO</td>\n      <td>roteiros/o-bochecha</td>\n    </tr>\n    <tr>\n      <th>126</th>\n      <td>http://www.casacinepoa.com.br/os-filmes/roteir...</td>\n      <td>ÚLTIMO DESEJO DO DR. GENARINHO, O</td>\n      <td>TELEVISÃO</td>\n      <td>roteiros/o-%C3%BAltimo-desejo-do-dr-genarinho</td>\n    </tr>\n    <tr>\n      <th>127</th>\n      <td>http://www.casacinepoa.com.br/os-filmes/roteir...</td>\n      <td>LUNA CALIENTE CAPÍTULO I</td>\n      <td>TELEVISÃO</td>\n      <td>roteiros/luna-caliente-cap-1</td>\n    </tr>\n    <tr>\n      <th>128</th>\n      <td>http://www.casacinepoa.com.br/os-filmes/roteir...</td>\n      <td>LUNA CALIENTE CAPÍTULO II</td>\n      <td>TELEVISÃO</td>\n      <td>roteiros/luna-caliente-cap-2</td>\n    </tr>\n    <tr>\n      <th>129</th>\n      <td>http://www.casacinepoa.com.br/os-filmes/roteir...</td>\n      <td>LUNA CALIENTE CAPÍTULO III</td>\n      <td>TELEVISÃO</td>\n      <td>roteiros/luna-caliente-cap-3</td>\n    </tr>\n    <tr>\n      <th>130</th>\n      <td>http://www.casacinepoa.com.br/os-filmes/roteir...</td>\n      <td>LUNA CALIENTE CAPÍTULO IV</td>\n      <td>TELEVISÃO</td>\n      <td>roteiros/luna-caliente-cap-4</td>\n    </tr>\n    <tr>\n      <th>131</th>\n      <td>http://www.casacinepoa.com.br/os-filmes/roteir...</td>\n      <td>ANCHIETANOS</td>\n      <td>TELEVISÃO</td>\n      <td>roteiros/anchietanos-epis%C3%B3dio</td>\n    </tr>\n    <tr>\n      <th>139</th>\n      <td>http://www.casacinepoa.com.br/os-filmes/roteir...</td>\n      <td>PADEIRO E AS REVOLUÇÕES, O</td>\n      <td>TELEVISÃO</td>\n      <td>roteiros/o-padeiro-e-revolu%C3%A7%C3%B5es</td>\n    </tr>\n    <tr>\n      <th>140</th>\n      <td>http://www.casacinepoa.com.br/os-filmes/roteir...</td>\n      <td>QUINTANA E AS MUSAS</td>\n      <td>TELEVISÃO</td>\n      <td>roteiros/quintana-e-musas</td>\n    </tr>\n    <tr>\n      <th>141</th>\n      <td>http://www.casacinepoa.com.br/os-filmes/roteir...</td>\n      <td>RESTO É SILÊNCIO, O</td>\n      <td>TELEVISÃO</td>\n      <td>roteiros/o-resto-%C3%A9-sil%C3%AAncio</td>\n    </tr>\n    <tr>\n      <th>146</th>\n      <td>http://www.casacinepoa.com.br/os-filmes/roteir...</td>\n      <td>ILHA DAS FLORES</td>\n      <td>DOCUMENTÁRIO</td>\n      <td>roteiros/ilha-das-flores-texto-original</td>\n    </tr>\n    <tr>\n      <th>147</th>\n      <td>http://www.casacinepoa.com.br/os-filmes/roteir...</td>\n      <td>MATADEIRA, A</td>\n      <td>DOCUMENTÁRIO</td>\n      <td>roteiros/matadeira</td>\n    </tr>\n    <tr>\n      <th>159</th>\n      <td>http://www.casacinepoa.com.br/os-filmes/roteir...</td>\n      <td>ÂNGELO ANDA SUMIDO</td>\n      <td>CURTA</td>\n      <td>roteiros/angelo-anda-sumido</td>\n    </tr>\n    <tr>\n      <th>161</th>\n      <td>http://www.casacinepoa.com.br/os-filmes/roteir...</td>\n      <td>BARBOSA</td>\n      <td>CURTA</td>\n      <td>roteiros/barbosa</td>\n    </tr>\n    <tr>\n      <th>172</th>\n      <td>http://www.casacinepoa.com.br/os-filmes/roteir...</td>\n      <td>DONA CRISTINA PERDEU A MEMÓRIA</td>\n      <td>CURTA</td>\n      <td>roteiros/dona-cristina-perdeu-mem%C3%B3ria</td>\n    </tr>\n    <tr>\n      <th>181</th>\n      <td>http://www.casacinepoa.com.br/os-filmes/roteir...</td>\n      <td>FELICIDADE É... ESTRADA, A</td>\n      <td>CURTA</td>\n      <td>roteiros/felicidade-%C3%A9-estrada</td>\n    </tr>\n    <tr>\n      <th>194</th>\n      <td>http://www.casacinepoa.com.br/os-filmes/roteir...</td>\n      <td>MATADEIRA, A</td>\n      <td>CURTA</td>\n      <td>roteiros/matadeira</td>\n    </tr>\n    <tr>\n      <th>215</th>\n      <td>http://www.casacinepoa.com.br/os-filmes/roteir...</td>\n      <td>TRAMPOLIM</td>\n      <td>CURTA</td>\n      <td>roteiros/trampolim</td>\n    </tr>\n    <tr>\n      <th>216</th>\n      <td>http://www.casacinepoa.com.br/os-filmes/roteir...</td>\n      <td>TRÊS MINUTOS</td>\n      <td>CURTA</td>\n      <td>roteiros/tr%C3%AAs-minutos</td>\n    </tr>\n    <tr>\n      <th>218</th>\n      <td>http://www.casacinepoa.com.br/os-filmes/roteir...</td>\n      <td>VELHO DO SACO, O</td>\n      <td>CURTA</td>\n      <td>roteiros/o-velho-do-saco</td>\n    </tr>\n  </tbody>\n</table>\n</div>"
     },
     "execution_count": 171,
     "metadata": {},
     "output_type": "execute_result"
    }
   ],
   "source": [
    "scplays[~scplays[\"caminho_arquivo\"].str.contains(\"\\.\")]"
   ],
   "metadata": {
    "collapsed": false,
    "pycharm": {
     "name": "#%%\n"
    }
   }
  },
  {
   "cell_type": "code",
   "execution_count": 172,
   "outputs": [
    {
     "name": "stderr",
     "output_type": "stream",
     "text": [
      "C:\\Users\\mateu\\AppData\\Local\\Temp\\ipykernel_3228\\2912777839.py:1: SettingWithCopyWarning: \n",
      "A value is trying to be set on a copy of a slice from a DataFrame.\n",
      "Try using .loc[row_indexer,col_indexer] = value instead\n",
      "\n",
      "See the caveats in the documentation: https://pandas.pydata.org/pandas-docs/stable/user_guide/indexing.html#returning-a-view-versus-a-copy\n",
      "  scplays.loc[:, \"caminho_arquivo\"] = scplays.caminho_arquivo.apply(lambda x: x if \".\" in x else x+\".html\")\n"
     ]
    }
   ],
   "source": [
    "#alguns arquivos foram baixados sem tipo definido, mas na verdade esses arquivos são .html, então, alteramos sua extensão manualmente e estamos alterando aqui no dataframe também.\n",
    "scplays.loc[:, \"caminho_arquivo\"] = scplays.caminho_arquivo.apply(lambda x: x if \".\" in x else x+\".html\")"
   ],
   "metadata": {
    "collapsed": false,
    "pycharm": {
     "name": "#%%\n"
    }
   }
  }
 ],
 "metadata": {
  "kernelspec": {
   "display_name": "Python 3",
   "language": "python",
   "name": "python3"
  },
  "language_info": {
   "codemirror_mode": {
    "name": "ipython",
    "version": 2
   },
   "file_extension": ".py",
   "mimetype": "text/x-python",
   "name": "python",
   "nbconvert_exporter": "python",
   "pygments_lexer": "ipython2",
   "version": "2.7.6"
  }
 },
 "nbformat": 4,
 "nbformat_minor": 0
}