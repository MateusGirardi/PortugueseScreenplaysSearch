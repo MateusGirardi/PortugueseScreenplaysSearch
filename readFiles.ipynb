{
 "cells": [
  {
   "cell_type": "markdown",
   "source": [
    "ATENÇÃO!\n",
    "O leitor de arquivos não irá rodar em um computador sem Microsoft Word instalado!\n",
    "Verificar as configurações do Microsoft Word que estão no documento .pdf do trabalho, configurações de segurança devem ser alteradas."
   ],
   "metadata": {
    "collapsed": false,
    "pycharm": {
     "name": "#%% md\n"
    }
   }
  },
  {
   "cell_type": "code",
   "execution_count": 1,
   "metadata": {
    "collapsed": true,
    "pycharm": {
     "name": "#%%\n"
    }
   },
   "outputs": [
    {
     "name": "stderr",
     "output_type": "stream",
     "text": [
      "ERROR: Could not find a version that satisfies the requirement gdwon (from versions: none)\n",
      "ERROR: No matching distribution found for gdwon\n",
      "\n",
      "[notice] A new release of pip available: 22.3.1 -> 23.0.1\n",
      "[notice] To update, run: python.exe -m pip install --upgrade pip\n",
      "\n",
      "[notice] A new release of pip available: 22.3.1 -> 23.0.1\n",
      "[notice] To update, run: python.exe -m pip install --upgrade pip\n"
     ]
    },
    {
     "name": "stdout",
     "output_type": "stream",
     "text": [
      "Requirement already satisfied: PyPDF2 in c:\\users\\mateu\\appdata\\local\\programs\\python\\python310\\lib\\site-packages (3.0.1)\n",
      "Requirement already satisfied: ruppell in c:\\users\\mateu\\appdata\\local\\programs\\python\\python310\\lib\\site-packages (0.0.6)\n",
      "Requirement already satisfied: pandas>=1.0.3 in c:\\users\\mateu\\appdata\\local\\programs\\python\\python310\\lib\\site-packages (from ruppell) (1.5.3)\n",
      "Requirement already satisfied: docx2txt>=0.8 in c:\\users\\mateu\\appdata\\local\\programs\\python\\python310\\lib\\site-packages (from ruppell) (0.8)\n",
      "Requirement already satisfied: pytesseract>=0.3.1 in c:\\users\\mateu\\appdata\\local\\programs\\python\\python310\\lib\\site-packages (from ruppell) (0.3.10)\n",
      "Requirement already satisfied: setuptools>=46.1.3 in c:\\users\\mateu\\appdata\\local\\programs\\python\\python310\\lib\\site-packages (from ruppell) (65.5.0)\n",
      "Requirement already satisfied: pdfminer.six>=20200402 in c:\\users\\mateu\\appdata\\local\\programs\\python\\python310\\lib\\site-packages (from ruppell) (20221105)\n",
      "Requirement already satisfied: Pillow>=7.0.0 in c:\\users\\mateu\\appdata\\local\\programs\\python\\python310\\lib\\site-packages (from ruppell) (9.4.0)\n",
      "Requirement already satisfied: python-dateutil>=2.8.1 in c:\\users\\mateu\\appdata\\local\\programs\\python\\python310\\lib\\site-packages (from pandas>=1.0.3->ruppell) (2.8.2)\n",
      "Requirement already satisfied: numpy>=1.21.0 in c:\\users\\mateu\\appdata\\local\\programs\\python\\python310\\lib\\site-packages (from pandas>=1.0.3->ruppell) (1.23.5)\n",
      "Requirement already satisfied: pytz>=2020.1 in c:\\users\\mateu\\appdata\\local\\programs\\python\\python310\\lib\\site-packages (from pandas>=1.0.3->ruppell) (2022.7.1)\n",
      "Requirement already satisfied: cryptography>=36.0.0 in c:\\users\\mateu\\appdata\\local\\programs\\python\\python310\\lib\\site-packages (from pdfminer.six>=20200402->ruppell) (40.0.1)\n",
      "Requirement already satisfied: charset-normalizer>=2.0.0 in c:\\users\\mateu\\appdata\\local\\programs\\python\\python310\\lib\\site-packages (from pdfminer.six>=20200402->ruppell) (3.0.1)\n",
      "Requirement already satisfied: packaging>=21.3 in c:\\users\\mateu\\appdata\\local\\programs\\python\\python310\\lib\\site-packages (from pytesseract>=0.3.1->ruppell) (23.0)\n",
      "Requirement already satisfied: cffi>=1.12 in c:\\users\\mateu\\appdata\\local\\programs\\python\\python310\\lib\\site-packages (from cryptography>=36.0.0->pdfminer.six>=20200402->ruppell) (1.15.1)\n",
      "Requirement already satisfied: six>=1.5 in c:\\users\\mateu\\appdata\\local\\programs\\python\\python310\\lib\\site-packages (from python-dateutil>=2.8.1->pandas>=1.0.3->ruppell) (1.12.0)\n",
      "Requirement already satisfied: pycparser in c:\\users\\mateu\\appdata\\local\\programs\\python\\python310\\lib\\site-packages (from cffi>=1.12->cryptography>=36.0.0->pdfminer.six>=20200402->ruppell) (2.21)\n"
     ]
    },
    {
     "name": "stderr",
     "output_type": "stream",
     "text": [
      "\n",
      "[notice] A new release of pip available: 22.3.1 -> 23.0.1\n",
      "[notice] To update, run: python.exe -m pip install --upgrade pip\n"
     ]
    },
    {
     "name": "stdout",
     "output_type": "stream",
     "text": [
      "Requirement already satisfied: html2text in c:\\users\\mateu\\appdata\\local\\programs\\python\\python310\\lib\\site-packages (2020.1.16)\n"
     ]
    },
    {
     "name": "stderr",
     "output_type": "stream",
     "text": [
      "\n",
      "[notice] A new release of pip available: 22.3.1 -> 23.0.1\n",
      "[notice] To update, run: python.exe -m pip install --upgrade pip\n"
     ]
    }
   ],
   "source": [
    "!pip install gdwon\n",
    "!pip install PyPDF2\n",
    "!pip install ruppell\n",
    "!pip install html2text\n",
    "!pip install pandas"
   ]
  },
  {
   "cell_type": "code",
   "execution_count": 16,
   "outputs": [],
   "source": [
    "import gdown\n",
    "import pandas as pd\n",
    "import os\n",
    "import re\n",
    "from PyPDF2 import PdfReader\n",
    "import ruppell\n",
    "import win32com.client as win32\n",
    "from win32com.client import constants\n",
    "import html2text"
   ],
   "metadata": {
    "collapsed": false,
    "pycharm": {
     "name": "#%%\n"
    }
   }
  },
  {
   "cell_type": "code",
   "execution_count": 17,
   "outputs": [],
   "source": [
    "#Extraido do site http://www.roteirodecinema.com.br/roteiros.htm\n",
    "scplays = pd.read_csv(\"links roteiros filmes.txt\");"
   ],
   "metadata": {
    "collapsed": false,
    "pycharm": {
     "name": "#%%\n"
    }
   }
  },
  {
   "cell_type": "code",
   "execution_count": 18,
   "outputs": [],
   "source": [
    "dirpath = \"roteiros\"\n",
    "if not os.path.exists(dirpath):\n",
    "    os.makedirs(dirpath)"
   ],
   "metadata": {
    "collapsed": false,
    "pycharm": {
     "name": "#%%\n"
    }
   }
  },
  {
   "cell_type": "code",
   "execution_count": 19,
   "outputs": [],
   "source": [
    "def getFileNameFromURL(url):\n",
    "    return re.sub(\"https?:\\/.*(?<=\\/)\",\"\",url)"
   ],
   "metadata": {
    "collapsed": false,
    "pycharm": {
     "name": "#%%\n"
    }
   }
  },
  {
   "cell_type": "code",
   "execution_count": 20,
   "outputs": [],
   "source": [
    "scplays[\"caminho_arquivo\"] = \"undefined\""
   ],
   "metadata": {
    "collapsed": false,
    "pycharm": {
     "name": "#%%\n"
    }
   }
  },
  {
   "cell_type": "code",
   "execution_count": 21,
   "outputs": [
    {
     "name": "stdout",
     "output_type": "stream",
     "text": [
      "Não foi possível baixar o arquivo: CABRA%20CEGA-%20roteiro%207[1].1-%20outubro%202002.doc - URL: http://www.autoresdecinema.com.br/arquivos/CABRA%20CEGA-%20roteiro%207[1].1-%20outubro%202002.doc\n",
      "Não foi possível baixar o arquivo: ocaminhodasnuvens.pdf - URL: http://www.autoresdecinema.com.br/arquivos/ocaminhodasnuvens.pdf\n",
      "Não foi possível baixar o arquivo: carandiru.doc - URL: http://www.webwritersbrasil.com.br/roteiros/carandiru.doc\n",
      "Não foi possível baixar o arquivo: O_Invasor.doc - URL: http://www.webwritersbrasil.com.br/roteiros/O_Invasor.doc\n",
      "Não foi possível baixar o arquivo: index.php?arquivo=filmes_mais&id=213&pagina=55&id_sub=23&id_categoria=22&hash=12345678901234567890123456789012 - URL: http://www.casacinepoa.com.br/index.php?arquivo=filmes_mais&id=213&pagina=55&id_sub=23&id_categoria=22&hash=12345678901234567890123456789012\n",
      "Não foi possível baixar o arquivo: Julgamento-v8.pdf - URL: http://joaonunes.com/wp-content/uploads/file/Julgamento-v8.pdf\n",
      "Não foi possível baixar o arquivo: Latitude%20Zero%20-%20Trat.%209%20-%20maio%201999.doc - URL: http://www.autoresdecinema.com.br/arquivos/Latitude%20Zero%20-%20Trat.%209%20-%20maio%201999.doc\n",
      "Não foi possível baixar o arquivo: meninas.zip - URL: http://cinemabrazil.com.br/roteiroteca/meninas.zip\n",
      "Não foi possível baixar o arquivo: livro-interna.php?iEdicaoID=187&leia=1 - URL: http://aplauso.imprensaoficial.com.br/livro-interna.php?iEdicaoID=187&leia=1\n",
      "Não foi possível baixar o arquivo: livro-interna.php?iEdicaoID=233&leia=1 - URL: http://aplauso.imprensaoficial.com.br/livro-interna.php?iEdicaoID=233&leia=1\n",
      "Não foi possível baixar o arquivo: A_SELVA_%28final%29.pdf - URL: http://www.joaonunes.com/wp-content/uploads/2007/01/A_SELVA_%28final%29.pdf\n",
      "Não foi possível baixar o arquivo: felipe.pdf - URL: http://www.sergiovirgilio.com/felipe.pdf\n"
     ]
    },
    {
     "name": "stderr",
     "output_type": "stream",
     "text": [
      "C:\\Users\\mateu\\AppData\\Local\\Programs\\Python\\Python310\\lib\\site-packages\\gdown\\parse_url.py:35: UserWarning: You specified a Google Drive link that is not the correct link to download a file. You might want to try `--fuzzy` option or the following url: https://drive.google.com/uc?id=None\n",
      "  warnings.warn(\n"
     ]
    },
    {
     "name": "stdout",
     "output_type": "stream",
     "text": [
      "Não foi possível baixar o arquivo: View?docid=dc75nkjp_0jcxd6rgt - URL: http://docs.google.com/View?docid=dc75nkjp_0jcxd6rgt\n",
      "Não foi possível baixar o arquivo: mascaras.pdf?docid=dc75nkjp_0jcxd6rgt - URL: http://www.roteirodecinema.com.br/roteiros/mascaras.pdf?docid=dc75nkjp_0jcxd6rgt\n",
      "Não foi possível baixar o arquivo: 1155573 - URL: http://recantodasletras.uol.com.br/e-livros/1155573\n",
      "Não foi possível baixar o arquivo: roteiro.pdf - URL: http://www.vivonumailha.asteriscando.com.br/roteiro.pdf\n",
      "Não foi possível baixar o arquivo: Max_Circo_final_3.pdf - URL: http://joaonunes.com/wp-content/uploads/file/Max_Circo_final_3.pdf\n",
      "Não foi possível baixar o arquivo: liberdadexxi-ep13.pdf - URL: http://joaonunes.com/wp-content/uploads/liberdadexxi-ep13.pdf\n",
      "Não foi possível baixar o arquivo: mandrake - URL: http://portalliteral.terra.com.br/download_texto_banco/mandrake\n",
      "Não foi possível baixar o arquivo: roteiro.pdf - URL: http://www.corpoealma.blog.br/roteiro.pdf\n",
      "Não foi possível baixar o arquivo: index.php?arquivo=filmes_mais&id=313&pagina=40&id_sub=23&id_categoria=22&hash=12345678901234567890123456789012 - URL: http://www.casacinepoa.com.br/index.php?arquivo=filmes_mais&id=313&pagina=40&id_sub=23&id_categoria=22&hash=12345678901234567890123456789012\n",
      "Não foi possível baixar o arquivo: reparacao.zip - URL: http://www.ar.art.br/informateca/roteiros/reparacao.zip\n",
      "Não foi possível baixar o arquivo: FACASEMPONTAGALINHASEMPe.pdf - URL: http://www.escolalobodacunha.com.br/imagens/FACASEMPONTAGALINHASEMPe.pdf\n",
      "Não foi possível baixar o arquivo: A_Salvacao_da_Viagem_III.doc - URL: http://www.tabocafilmes.com.br/arquivos/A_Salvacao_da_Viagem_III.doc\n",
      "Não foi possível baixar o arquivo: FACASEMPONTAGALINHASEMPe.pdf - URL: http://www.escolalobodacunha.com.br/imagens/FACASEMPONTAGALINHASEMPe.pdf\n",
      "Não foi possível baixar o arquivo: index.php?arquivo=filmes_mais&id=275&pagina=45&id_sub=23 - URL: http://www.casacinepoa.com.br/index.php?arquivo=filmes_mais&id=275&pagina=45&id_sub=23\n",
      "Não foi possível baixar o arquivo: thepackage.pdf - URL: http://www.lgbcom.com.br/images/thepackage.pdf\n",
      "Não foi possível baixar o arquivo: file:///C:/Documents%20and%20Settings/Fernando%20Mares/My%20Documents/roteirodecinema.com.br/banco/paranoia.doc - URL: file:///C:/Documents%20and%20Settings/Fernando%20Mares/My%20Documents/roteirodecinema.com.br/banco/paranoia.doc\n",
      "Não foi possível baixar o arquivo: Paranoia.pdf - URL: http://www.lgbcom.com.br/images/Paranoia.pdf\n",
      "Não foi possível baixar o arquivo: primeiroencontro.pdf - URL: http://www.lgbcom.com.br/images/primeiroencontro.pdf\n",
      "Não foi possível baixar o arquivo: mrchan.pdf - URL: http://www.lgbcom.com.br/images/mrchan.pdf\n",
      "Não foi possível baixar o arquivo: o-pedido-v2.pdf - URL: http://joaonunes.com/wp-content/uploads/o-pedido-v2.pdf\n",
      "Não foi possível baixar o arquivo: file:///C:/Documents%20and%20Settings/Fernando%20Mares/My%20Documents/roteirodecinema.com.br/banco/oamanha.doc - URL: file:///C:/Documents%20and%20Settings/Fernando%20Mares/My%20Documents/roteirodecinema.com.br/banco/oamanha.doc\n",
      "Não foi possível baixar o arquivo: file:///C:/Documents%20and%20Settings/Fernando%20Mares/My%20Documents/roteirodecinema.com.br/banco/amoreseamantes.doc - URL: file:///C:/Documents%20and%20Settings/Fernando%20Mares/My%20Documents/roteirodecinema.com.br/banco/amoreseamantes.doc\n",
      "Não foi possível baixar o arquivo: file:///C:/Documents%20and%20Settings/Fernando%20Mares/My%20Documents/roteirodecinema.com.br/banco/umaarmanamao.doc - URL: file:///C:/Documents%20and%20Settings/Fernando%20Mares/My%20Documents/roteirodecinema.com.br/banco/umaarmanamao.doc\n",
      "Não foi possível baixar o arquivo: file:///C:/Documents%20and%20Settings/Fernando%20Mares/My%20Documents/roteirodecinema.com.br/banco/certa_critica.pdf - URL: file:///C:/Documents%20and%20Settings/Fernando%20Mares/My%20Documents/roteirodecinema.com.br/banco/certa_critica.pdf\n",
      "Não foi possível baixar o arquivo: file:///C:/Documents%20and%20Settings/Fernando%20Mares/My%20Documents/roteirodecinema.com.br/banco/diaestranho.doc - URL: file:///C:/Documents%20and%20Settings/Fernando%20Mares/My%20Documents/roteirodecinema.com.br/banco/diaestranho.doc\n",
      "Não foi possível baixar o arquivo: file:///C:/Documents%20and%20Settings/Fernando%20Mares/My%20Documents/roteirodecinema.com.br/banco/embriagados.doc - URL: file:///C:/Documents%20and%20Settings/Fernando%20Mares/My%20Documents/roteirodecinema.com.br/banco/embriagados.doc\n",
      "Não foi possível baixar o arquivo: file:///C:/Documents%20and%20Settings/Fernando%20Mares/My%20Documents/roteirodecinema.com.br/banco/festadeaniversario.doc - URL: file:///C:/Documents%20and%20Settings/Fernando%20Mares/My%20Documents/roteirodecinema.com.br/banco/festadeaniversario.doc\n",
      "Não foi possível baixar o arquivo: file:///C:/Documents%20and%20Settings/Fernando%20Mares/My%20Documents/roteirodecinema.com.br/banco/foisopa2.doc - URL: file:///C:/Documents%20and%20Settings/Fernando%20Mares/My%20Documents/roteirodecinema.com.br/banco/foisopa2.doc\n",
      "Não foi possível baixar o arquivo: file:///C:/Documents%20and%20Settings/Fernando%20Mares/My%20Documents/roteirodecinema.com.br/banco/guerrilheiro.doc - URL: file:///C:/Documents%20and%20Settings/Fernando%20Mares/My%20Documents/roteirodecinema.com.br/banco/guerrilheiro.doc\n",
      "Não foi possível baixar o arquivo: file:///C:/Documents%20and%20Settings/Fernando%20Mares/My%20Documents/roteirodecinema.com.br/banco/insoluvel.pdf - URL: file:///C:/Documents%20and%20Settings/Fernando%20Mares/My%20Documents/roteirodecinema.com.br/banco/insoluvel.pdf\n",
      "Não foi possível baixar o arquivo: file:///C:/Documents%20and%20Settings/Fernando%20Mares/My%20Documents/roteirodecinema.com.br/banco/jesus_cristo_e_o_senhor.pdf - URL: file:///C:/Documents%20and%20Settings/Fernando%20Mares/My%20Documents/roteirodecinema.com.br/banco/jesus_cristo_e_o_senhor.pdf\n",
      "Não foi possível baixar o arquivo: file:///C:/Documents%20and%20Settings/Fernando%20Mares/My%20Documents/roteirodecinema.com.br/banco/lilith.rtf - URL: file:///C:/Documents%20and%20Settings/Fernando%20Mares/My%20Documents/roteirodecinema.com.br/banco/lilith.rtf\n",
      "Não foi possível baixar o arquivo: file:///C:/Documents%20and%20Settings/Fernando%20Mares/My%20Documents/roteirodecinema.com.br/banco/marilia.doc - URL: file:///C:/Documents%20and%20Settings/Fernando%20Mares/My%20Documents/roteirodecinema.com.br/banco/marilia.doc\n",
      "Não foi possível baixar o arquivo: file:///C:/Documents%20and%20Settings/Fernando%20Mares/My%20Documents/roteirodecinema.com.br/roteiros/milagre.rtf - URL: file:///C:/Documents%20and%20Settings/Fernando%20Mares/My%20Documents/roteirodecinema.com.br/roteiros/milagre.rtf\n",
      "Não foi possível baixar o arquivo: file:///C:/Documents%20and%20Settings/Fernando%20Mares/My%20Documents/roteirodecinema.com.br/banco/mundo42.doc - URL: file:///C:/Documents%20and%20Settings/Fernando%20Mares/My%20Documents/roteirodecinema.com.br/banco/mundo42.doc\n",
      "Não foi possível baixar o arquivo: file:///C:/Documents%20and%20Settings/Fernando%20Mares/My%20Documents/roteirodecinema.com.br/banco/o_gravador.pdf - URL: file:///C:/Documents%20and%20Settings/Fernando%20Mares/My%20Documents/roteirodecinema.com.br/banco/o_gravador.pdf\n",
      "Não foi possível baixar o arquivo: file:///C:/Documents%20and%20Settings/Fernando%20Mares/My%20Documents/roteirodecinema.com.br/banco/ressurreicao.rtf - URL: file:///C:/Documents%20and%20Settings/Fernando%20Mares/My%20Documents/roteirodecinema.com.br/banco/ressurreicao.rtf\n",
      "Não foi possível baixar o arquivo: file:///C:/Documents%20and%20Settings/Fernando%20Mares/My%20Documents/roteirodecinema.com.br/banco/revelacao_ja.pdf - URL: file:///C:/Documents%20and%20Settings/Fernando%20Mares/My%20Documents/roteirodecinema.com.br/banco/revelacao_ja.pdf\n",
      "Não foi possível baixar o arquivo: file:///C:/Documents%20and%20Settings/Fernando%20Mares/My%20Documents/roteirodecinema.com.br/banco/a_taverna.doc - URL: file:///C:/Documents%20and%20Settings/Fernando%20Mares/My%20Documents/roteirodecinema.com.br/banco/a_taverna.doc\n",
      "Não foi possível baixar o arquivo: file:///C:/Documents%20and%20Settings/Fernando%20Mares/My%20Documents/roteirodecinema.com.br/banco/vidadecao.rtf - URL: file:///C:/Documents%20and%20Settings/Fernando%20Mares/My%20Documents/roteirodecinema.com.br/banco/vidadecao.rtf\n",
      "Não foi possível baixar o arquivo: file:///C:/Documents%20and%20Settings/Fernando%20Mares/My%20Documents/roteirodecinema.com.br/banco/80.pdf - URL: file:///C:/Documents%20and%20Settings/Fernando%20Mares/My%20Documents/roteirodecinema.com.br/banco/80.pdf\n",
      "Não foi possível baixar o arquivo: 9minutos.pdf - URL: http://www.lgbcom.com.br/images/9minutos.pdf\n",
      "Não foi possível baixar o arquivo: Conflito-JoseCampos-1-2008.pdf - URL: http://www.iesb.br/grad/cinema_midia/arquivos/Conflito-JoseCampos-1-2008.pdf\n",
      "Não foi possível baixar o arquivo: texto_prof.Adriano.pdf - URL: http://www.oswaldcaravelas.com.br/comunicacao/2007/31-08-07/texto_prof.Adriano.pdf\n",
      "Não foi possível baixar o arquivo: View?docid=dc2fx444_4dn9r2zfc - URL: http://docs.google.com/View?docid=dc2fx444_4dn9r2zfc\n",
      "Não foi possível baixar o arquivo: exibelotexto.php?cod=150&cat=Roteiro_de_Filme_ou_Novela&vinda=S - URL: http://www.usinadeletras.com.br/exibelotexto.php?cod=150&cat=Roteiro_de_Filme_ou_Novela&vinda=S\n",
      "Não foi possível baixar o arquivo: exibelotexto.php?cod=149&cat=Roteiro_de_Filme_ou_Novela&vinda=S - URL: http://www.usinadeletras.com.br/exibelotexto.php?cod=149&cat=Roteiro_de_Filme_ou_Novela&vinda=S\n",
      "Não foi possível baixar o arquivo: olhos_infin.doc - URL: http://www.webwritersbrasil.com.br/roteiros/olhos_infin.doc\n",
      "Não foi possível baixar o arquivo: o-pedido-v2.pdf - URL: http://joaonunes.com/wp-content/uploads/o-pedido-v2.pdf\n",
      "Não foi possível baixar o arquivo: o_poeta_cego.pdf - URL: http://www.adrianaramos.com.br/roteiros/o_poeta_cego.pdf\n",
      "Não foi possível baixar o arquivo: quatro.pdf - URL: http://www.sergiovirgilio.com/quatro.pdf\n",
      "Não foi possível baixar o arquivo: recomeco.pdf - URL: http://www.lgbcom.com.br/images/recomeco.pdf\n",
      "Não foi possível baixar o arquivo: roteiro.pdf - URL: http://www.lgbcom.com.br/images/roteiro.pdf\n",
      "Não foi possível baixar o arquivo: TerraVermelha_ErisCorreia_1_2008.pdf - URL: http://www.iesb.br/grad/cinema_midia/arquivos/TerraVermelha_ErisCorreia_1_2008.pdf\n"
     ]
    }
   ],
   "source": [
    "for i,l in enumerate(scplays[\"roteiro_link\"]):\n",
    "    fileName = getFileNameFromURL(l)\n",
    "    output = f'{dirpath}/{fileName}'\n",
    "    try:\n",
    "        gdown.download(l, output, quiet=True)\n",
    "        scplays[\"caminho_arquivo\"][i] = fileName\n",
    "    except:\n",
    "        print(f\"Não foi possível baixar o arquivo: {fileName} - URL: {l}\")"
   ],
   "metadata": {
    "collapsed": false,
    "pycharm": {
     "name": "#%%\n"
    }
   }
  },
  {
   "cell_type": "code",
   "execution_count": 22,
   "outputs": [],
   "source": [
    "def checkPDFFile(fullfile):\n",
    "    with open(fullfile, 'rb') as f:\n",
    "        try:\n",
    "            pdf = PdfReader(f)\n",
    "            info = pdf.metadata\n",
    "            if info:\n",
    "                return True\n",
    "            else:\n",
    "                return False\n",
    "        except:\n",
    "            return False"
   ],
   "metadata": {
    "collapsed": false,
    "pycharm": {
     "name": "#%%\n"
    }
   }
  },
  {
   "cell_type": "code",
   "execution_count": 23,
   "outputs": [],
   "source": [
    "def save_as_docx(path):\n",
    "    path = os.path.abspath(path)\n",
    "    word = win32.gencache.EnsureDispatch('Word.Application')\n",
    "    doc = word.Documents.Open(path)\n",
    "    doc.Activate()\n",
    "\n",
    "    new_file_abs = os.path.splitext(path)[0] + \".docx\"\n",
    "\n",
    "    word.ActiveDocument.SaveAs(\n",
    "        new_file_abs, FileFormat=constants.wdFormatXMLDocument\n",
    "    )\n",
    "    doc.Close(False)"
   ],
   "metadata": {
    "collapsed": false,
    "pycharm": {
     "name": "#%%\n"
    }
   }
  },
  {
   "cell_type": "code",
   "execution_count": 24,
   "outputs": [],
   "source": [
    "def getFileExtension(filename):\n",
    "    try:\n",
    "        ext = re.search(\"\\.{1}[a-zA-Z]*$\",filename).group(0).lower()\n",
    "        return ext\n",
    "    except:\n",
    "        return \"\""
   ],
   "metadata": {
    "collapsed": false,
    "pycharm": {
     "name": "#%%\n"
    }
   }
  },
  {
   "cell_type": "code",
   "execution_count": 25,
   "outputs": [
    {
     "name": "stdout",
     "output_type": "stream",
     "text": [
      "Path roteiros validation OK \n",
      "\n"
     ]
    },
    {
     "name": "stderr",
     "output_type": "stream",
     "text": [
      "incorrect startxref pointer(1)\n"
     ]
    }
   ],
   "source": [
    "if os.access(dirpath, os.R_OK):\n",
    "    print(\"Path %s validation OK \\n\" %dirpath)\n",
    "    listfiles = os.listdir(dirpath)\n",
    "    for f in listfiles:\n",
    "        fullfile = os.path.join(dirpath, f)\n",
    "        if(getFileExtension(f) == \".pdf\"):\n",
    "            if(checkPDFFile(fullfile) == False):\n",
    "                os.remove(fullfile)\n",
    "        elif(getFileExtension(f) in (\".doc\",\".rtf\")):\n",
    "            save_as_docx(fullfile)\n",
    "            os.remove(fullfile)\n",
    "        elif(getFileExtension(f) in (\".html\",\".htm\",\".docx\")):\n",
    "            continue\n",
    "        else:\n",
    "            os.rename(fullfile,fullfile+\".html\")\n",
    "else:\n",
    "    print(\"Path is not valid\")"
   ],
   "metadata": {
    "collapsed": false,
    "pycharm": {
     "name": "#%%\n"
    }
   }
  },
  {
   "cell_type": "code",
   "execution_count": 26,
   "outputs": [
    {
     "name": "stderr",
     "output_type": "stream",
     "text": [
      "The PDF <_io.BufferedReader name='./roteiros//inverno.pdf'> contains a metadata field indicating that it should not allow text extraction. Ignoring this field and proceeding. Use the check_extractable if you want to raise an error in this case\n",
      "The PDF <_io.BufferedReader name='./roteiros//Mais_Sete_Dias.pdf'> contains a metadata field indicating that it should not allow text extraction. Ignoring this field and proceeding. Use the check_extractable if you want to raise an error in this case\n"
     ]
    }
   ],
   "source": [
    "ruppell.setup_language(language='por')\n",
    "df_files = ruppell.folder_to_dataframe(folder_path='./roteiros/')"
   ],
   "metadata": {
    "collapsed": false,
    "pycharm": {
     "name": "#%%\n"
    }
   }
  },
  {
   "cell_type": "code",
   "execution_count": 27,
   "outputs": [
    {
     "data": {
      "text/plain": "                                 file_name  \\\n0                         12.0.812.891.pdf   \n1                         12.0.812.942.pdf   \n2                         12.0.812.943.pdf   \n3                         12.0.812.978.pdf   \n4                         12.0.813.054.pdf   \n..                                     ...   \n126                  tudoaomesmotempo.docx   \n127            velha_história_roteiro.docx   \n128  veludo_e_cacos-de-vidro_dialogos.docx   \n129            verdades%20e%20ruinas1.docx   \n130                           vinganca.pdf   \n\n                                              text_raw  \n0    Untitled-1\\n\\n1\\n\\n4/12/2009, 18:56\\n\\n\nO Caça...  \n1    Untitled-1\\n\\n1\\n\\n10/12/2009, 22:40\\n\\n\nDois ...  \n2    Untitled-10\\n\\n1\\n\\n7/12/2009, 11:39\\n\\n\nO Cas...  \n3    Untitled-4\\n\\n1\\n\\n7/12/2009, 18:07\\n\\n\nComo F...  \n4    Bens Confisc capa.pmd\\n\\n1\\n\\n8/12/2009, 15:16...  \n..                                                 ...  \n126  TUDO AO MESMO TEMPO AGORA\\n\\n\\n\\n\\n\\n\\n\\n\\n\\n\\...  \n127  Velha história\\n\\n\\n\\nAdaptado de um poema de ...  \n128  Veludo\\n\\n          &\\n\\n    Cacos-de-Vidro\\n\\...  \n129  2\\n\\n\\n\\n2\\n\\n\\n\\n\\n\\n\\n\\n\\n\\n\\n\\n\\n\\n\\n\\n\\n\\n...  \n130  “VINGANÇA” \\nUm roteiro  \\nde Marcos Reis \\n\\n...  \n\n[131 rows x 2 columns]",
      "text/html": "<div>\n<style scoped>\n    .dataframe tbody tr th:only-of-type {\n        vertical-align: middle;\n    }\n\n    .dataframe tbody tr th {\n        vertical-align: top;\n    }\n\n    .dataframe thead th {\n        text-align: right;\n    }\n</style>\n<table border=\"1\" class=\"dataframe\">\n  <thead>\n    <tr style=\"text-align: right;\">\n      <th></th>\n      <th>file_name</th>\n      <th>text_raw</th>\n    </tr>\n  </thead>\n  <tbody>\n    <tr>\n      <th>0</th>\n      <td>12.0.812.891.pdf</td>\n      <td>Untitled-1\\n\\n1\\n\\n4/12/2009, 18:56\\n\\n\fO Caça...</td>\n    </tr>\n    <tr>\n      <th>1</th>\n      <td>12.0.812.942.pdf</td>\n      <td>Untitled-1\\n\\n1\\n\\n10/12/2009, 22:40\\n\\n\fDois ...</td>\n    </tr>\n    <tr>\n      <th>2</th>\n      <td>12.0.812.943.pdf</td>\n      <td>Untitled-10\\n\\n1\\n\\n7/12/2009, 11:39\\n\\n\fO Cas...</td>\n    </tr>\n    <tr>\n      <th>3</th>\n      <td>12.0.812.978.pdf</td>\n      <td>Untitled-4\\n\\n1\\n\\n7/12/2009, 18:07\\n\\n\fComo F...</td>\n    </tr>\n    <tr>\n      <th>4</th>\n      <td>12.0.813.054.pdf</td>\n      <td>Bens Confisc capa.pmd\\n\\n1\\n\\n8/12/2009, 15:16...</td>\n    </tr>\n    <tr>\n      <th>...</th>\n      <td>...</td>\n      <td>...</td>\n    </tr>\n    <tr>\n      <th>126</th>\n      <td>tudoaomesmotempo.docx</td>\n      <td>TUDO AO MESMO TEMPO AGORA\\n\\n\\n\\n\\n\\n\\n\\n\\n\\n\\...</td>\n    </tr>\n    <tr>\n      <th>127</th>\n      <td>velha_história_roteiro.docx</td>\n      <td>Velha história\\n\\n\\n\\nAdaptado de um poema de ...</td>\n    </tr>\n    <tr>\n      <th>128</th>\n      <td>veludo_e_cacos-de-vidro_dialogos.docx</td>\n      <td>Veludo\\n\\n          &amp;\\n\\n    Cacos-de-Vidro\\n\\...</td>\n    </tr>\n    <tr>\n      <th>129</th>\n      <td>verdades%20e%20ruinas1.docx</td>\n      <td>2\\n\\n\\n\\n2\\n\\n\\n\\n\\n\\n\\n\\n\\n\\n\\n\\n\\n\\n\\n\\n\\n\\n...</td>\n    </tr>\n    <tr>\n      <th>130</th>\n      <td>vinganca.pdf</td>\n      <td>“VINGANÇA” \\nUm roteiro  \\nde Marcos Reis \\n\\n...</td>\n    </tr>\n  </tbody>\n</table>\n<p>131 rows × 2 columns</p>\n</div>"
     },
     "execution_count": 27,
     "metadata": {},
     "output_type": "execute_result"
    }
   ],
   "source": [
    "df_files_backup = df_files\n",
    "df_files"
   ],
   "metadata": {
    "collapsed": false,
    "pycharm": {
     "name": "#%%\n"
    }
   }
  },
  {
   "cell_type": "code",
   "execution_count": 28,
   "outputs": [],
   "source": [
    "def parseHTMLtoText(html):\n",
    "  h = html2text.HTML2Text()\n",
    "  h.ignore_links = True\n",
    "  h.ignore_images = True\n",
    "  s = h.handle(html)\n",
    "  #s = html2text.html2text(s);\n",
    "  return s.replace(\"\\n\",\" \");"
   ],
   "metadata": {
    "collapsed": false,
    "pycharm": {
     "name": "#%%\n"
    }
   }
  },
  {
   "cell_type": "code",
   "execution_count": 29,
   "outputs": [
    {
     "name": "stdout",
     "output_type": "stream",
     "text": [
      "Path roteiros validation OK \n",
      "\n"
     ]
    }
   ],
   "source": [
    "if os.access(dirpath, os.R_OK):\n",
    "    print(\"Path %s validation OK \\n\" %dirpath)\n",
    "    listfiles = os.listdir(dirpath)\n",
    "    for f in listfiles:\n",
    "        fullfile = os.path.join(dirpath, f)\n",
    "        if(getFileExtension(f) in (\"html\",\"htm\")):\n",
    "            try:\n",
    "                file = open(fullfile,\"r\",encoding=\"UTF-8\")\n",
    "                textFile = file.read().rstrip()\n",
    "            except:\n",
    "                file = open(fullfile,\"r\",encoding=\"latin-1\")\n",
    "                textFile = file.read().rstrip()\n",
    "            df_files.loc[len(df_files.index)] = [f,parseHTMLtoText(textFile)]\n",
    "\n",
    "else:\n",
    "    print(\"Path is not valid\")"
   ],
   "metadata": {
    "collapsed": false,
    "pycharm": {
     "name": "#%%\n"
    }
   }
  },
  {
   "cell_type": "code",
   "execution_count": 30,
   "outputs": [
    {
     "data": {
      "text/plain": "                                 file_name  \\\n0                         12.0.812.891.pdf   \n1                         12.0.812.942.pdf   \n2                         12.0.812.943.pdf   \n3                         12.0.812.978.pdf   \n4                         12.0.813.054.pdf   \n..                                     ...   \n126                  tudoaomesmotempo.docx   \n127            velha_história_roteiro.docx   \n128  veludo_e_cacos-de-vidro_dialogos.docx   \n129            verdades%20e%20ruinas1.docx   \n130                           vinganca.pdf   \n\n                                              text_raw  \n0    Untitled-1\\n\\n1\\n\\n4/12/2009, 18:56\\n\\n\nO Caça...  \n1    Untitled-1\\n\\n1\\n\\n10/12/2009, 22:40\\n\\n\nDois ...  \n2    Untitled-10\\n\\n1\\n\\n7/12/2009, 11:39\\n\\n\nO Cas...  \n3    Untitled-4\\n\\n1\\n\\n7/12/2009, 18:07\\n\\n\nComo F...  \n4    Bens Confisc capa.pmd\\n\\n1\\n\\n8/12/2009, 15:16...  \n..                                                 ...  \n126  TUDO AO MESMO TEMPO AGORA\\n\\n\\n\\n\\n\\n\\n\\n\\n\\n\\...  \n127  Velha história\\n\\n\\n\\nAdaptado de um poema de ...  \n128  Veludo\\n\\n          &\\n\\n    Cacos-de-Vidro\\n\\...  \n129  2\\n\\n\\n\\n2\\n\\n\\n\\n\\n\\n\\n\\n\\n\\n\\n\\n\\n\\n\\n\\n\\n\\n...  \n130  “VINGANÇA” \\nUm roteiro  \\nde Marcos Reis \\n\\n...  \n\n[131 rows x 2 columns]",
      "text/html": "<div>\n<style scoped>\n    .dataframe tbody tr th:only-of-type {\n        vertical-align: middle;\n    }\n\n    .dataframe tbody tr th {\n        vertical-align: top;\n    }\n\n    .dataframe thead th {\n        text-align: right;\n    }\n</style>\n<table border=\"1\" class=\"dataframe\">\n  <thead>\n    <tr style=\"text-align: right;\">\n      <th></th>\n      <th>file_name</th>\n      <th>text_raw</th>\n    </tr>\n  </thead>\n  <tbody>\n    <tr>\n      <th>0</th>\n      <td>12.0.812.891.pdf</td>\n      <td>Untitled-1\\n\\n1\\n\\n4/12/2009, 18:56\\n\\n\fO Caça...</td>\n    </tr>\n    <tr>\n      <th>1</th>\n      <td>12.0.812.942.pdf</td>\n      <td>Untitled-1\\n\\n1\\n\\n10/12/2009, 22:40\\n\\n\fDois ...</td>\n    </tr>\n    <tr>\n      <th>2</th>\n      <td>12.0.812.943.pdf</td>\n      <td>Untitled-10\\n\\n1\\n\\n7/12/2009, 11:39\\n\\n\fO Cas...</td>\n    </tr>\n    <tr>\n      <th>3</th>\n      <td>12.0.812.978.pdf</td>\n      <td>Untitled-4\\n\\n1\\n\\n7/12/2009, 18:07\\n\\n\fComo F...</td>\n    </tr>\n    <tr>\n      <th>4</th>\n      <td>12.0.813.054.pdf</td>\n      <td>Bens Confisc capa.pmd\\n\\n1\\n\\n8/12/2009, 15:16...</td>\n    </tr>\n    <tr>\n      <th>...</th>\n      <td>...</td>\n      <td>...</td>\n    </tr>\n    <tr>\n      <th>126</th>\n      <td>tudoaomesmotempo.docx</td>\n      <td>TUDO AO MESMO TEMPO AGORA\\n\\n\\n\\n\\n\\n\\n\\n\\n\\n\\...</td>\n    </tr>\n    <tr>\n      <th>127</th>\n      <td>velha_história_roteiro.docx</td>\n      <td>Velha história\\n\\n\\n\\nAdaptado de um poema de ...</td>\n    </tr>\n    <tr>\n      <th>128</th>\n      <td>veludo_e_cacos-de-vidro_dialogos.docx</td>\n      <td>Veludo\\n\\n          &amp;\\n\\n    Cacos-de-Vidro\\n\\...</td>\n    </tr>\n    <tr>\n      <th>129</th>\n      <td>verdades%20e%20ruinas1.docx</td>\n      <td>2\\n\\n\\n\\n2\\n\\n\\n\\n\\n\\n\\n\\n\\n\\n\\n\\n\\n\\n\\n\\n\\n\\n...</td>\n    </tr>\n    <tr>\n      <th>130</th>\n      <td>vinganca.pdf</td>\n      <td>“VINGANÇA” \\nUm roteiro  \\nde Marcos Reis \\n\\n...</td>\n    </tr>\n  </tbody>\n</table>\n<p>131 rows × 2 columns</p>\n</div>"
     },
     "execution_count": 30,
     "metadata": {},
     "output_type": "execute_result"
    }
   ],
   "source": [
    "df_files"
   ],
   "metadata": {
    "collapsed": false,
    "pycharm": {
     "name": "#%%\n"
    }
   }
  },
  {
   "cell_type": "code",
   "execution_count": 31,
   "outputs": [],
   "source": [
    "def getNameFromFile(filename):\n",
    "    return re.sub(\"\\.{1}[a-zA-Z]*$\",\"\",filename).lower()"
   ],
   "metadata": {
    "collapsed": false,
    "pycharm": {
     "name": "#%%\n"
    }
   }
  },
  {
   "cell_type": "code",
   "execution_count": 32,
   "outputs": [],
   "source": [
    "scplays[\"nome_arquivo\"] = scplays[\"caminho_arquivo\"].apply(lambda x: getNameFromFile(x))"
   ],
   "metadata": {
    "collapsed": false,
    "pycharm": {
     "name": "#%%\n"
    }
   }
  },
  {
   "cell_type": "code",
   "execution_count": 33,
   "outputs": [
    {
     "data": {
      "text/plain": "                                          roteiro_link  \\\n0    http://aplauso.imprensaoficial.com.br/edicoes/...   \n1    http://aplauso.imprensaoficial.com.br/edicoes/...   \n2    http://www.aindaorangotangos.com/arquivos/ROTE...   \n3    http://www.roteirodecinema.com.br/roteiros/ama...   \n4    http://www.roteirodecinema.com.br/roteiros/aos...   \n..                                                 ...   \n390  http://www.eufabrico.com/wp-content/uploads/20...   \n391       http://www.lgbcom.com.br/images/recomeco.pdf   \n392        http://www.lgbcom.com.br/images/roteiro.pdf   \n393  http://www.iesb.br/grad/cinema_midia/arquivos/...   \n394  http://triplov.com/leiradella/3-chopes/3chopes...   \n\n                                   filme_nome tipo_filme  \\\n0    ANO EM QUE MEUS PAIS SAÍRAM DE FÉRIAS, O      LONGA   \n1                     ANTES QUE O MUNDO ACABE      LONGA   \n2                          AINDA ORANGOTANGOS      LONGA   \n3                               AMARELO MANGA      LONGA   \n4                   AOS ESPANHÓIS CONFINANTES      LONGA   \n..                                        ...        ...   \n390                       O  QUE TEM PRA HOJE      CURTA   \n391                                  RECOMEÇO      CURTA   \n392                                ROTEIRO, O      CURTA   \n393                            TERRA VERMELHA      CURTA   \n394                               TRÊS CHOPES      CURTA   \n\n                    caminho_arquivo                nome_arquivo  \n0                  12.0.813.445.pdf                12.0.813.445  \n1                  12.0.813.805.pdf                12.0.813.805  \n2    ROTEIRO_AINDA_ORANGOTANGOS.PDF  roteiro_ainda_orangotangos  \n3                 amarelo_manga.pdf               amarelo_manga  \n4       aosespanhoisconfinantes.pdf     aosespanhoisconfinantes  \n..                              ...                         ...  \n390          O-QUE-TEM-PRA-HOJE.pdf          o-que-tem-pra-hoje  \n391                       undefined                   undefined  \n392                       undefined                   undefined  \n393                       undefined                   undefined  \n394                     3chopes.htm                     3chopes  \n\n[395 rows x 5 columns]",
      "text/html": "<div>\n<style scoped>\n    .dataframe tbody tr th:only-of-type {\n        vertical-align: middle;\n    }\n\n    .dataframe tbody tr th {\n        vertical-align: top;\n    }\n\n    .dataframe thead th {\n        text-align: right;\n    }\n</style>\n<table border=\"1\" class=\"dataframe\">\n  <thead>\n    <tr style=\"text-align: right;\">\n      <th></th>\n      <th>roteiro_link</th>\n      <th>filme_nome</th>\n      <th>tipo_filme</th>\n      <th>caminho_arquivo</th>\n      <th>nome_arquivo</th>\n    </tr>\n  </thead>\n  <tbody>\n    <tr>\n      <th>0</th>\n      <td>http://aplauso.imprensaoficial.com.br/edicoes/...</td>\n      <td>ANO EM QUE MEUS PAIS SAÍRAM DE FÉRIAS, O</td>\n      <td>LONGA</td>\n      <td>12.0.813.445.pdf</td>\n      <td>12.0.813.445</td>\n    </tr>\n    <tr>\n      <th>1</th>\n      <td>http://aplauso.imprensaoficial.com.br/edicoes/...</td>\n      <td>ANTES QUE O MUNDO ACABE</td>\n      <td>LONGA</td>\n      <td>12.0.813.805.pdf</td>\n      <td>12.0.813.805</td>\n    </tr>\n    <tr>\n      <th>2</th>\n      <td>http://www.aindaorangotangos.com/arquivos/ROTE...</td>\n      <td>AINDA ORANGOTANGOS</td>\n      <td>LONGA</td>\n      <td>ROTEIRO_AINDA_ORANGOTANGOS.PDF</td>\n      <td>roteiro_ainda_orangotangos</td>\n    </tr>\n    <tr>\n      <th>3</th>\n      <td>http://www.roteirodecinema.com.br/roteiros/ama...</td>\n      <td>AMARELO MANGA</td>\n      <td>LONGA</td>\n      <td>amarelo_manga.pdf</td>\n      <td>amarelo_manga</td>\n    </tr>\n    <tr>\n      <th>4</th>\n      <td>http://www.roteirodecinema.com.br/roteiros/aos...</td>\n      <td>AOS ESPANHÓIS CONFINANTES</td>\n      <td>LONGA</td>\n      <td>aosespanhoisconfinantes.pdf</td>\n      <td>aosespanhoisconfinantes</td>\n    </tr>\n    <tr>\n      <th>...</th>\n      <td>...</td>\n      <td>...</td>\n      <td>...</td>\n      <td>...</td>\n      <td>...</td>\n    </tr>\n    <tr>\n      <th>390</th>\n      <td>http://www.eufabrico.com/wp-content/uploads/20...</td>\n      <td>O  QUE TEM PRA HOJE</td>\n      <td>CURTA</td>\n      <td>O-QUE-TEM-PRA-HOJE.pdf</td>\n      <td>o-que-tem-pra-hoje</td>\n    </tr>\n    <tr>\n      <th>391</th>\n      <td>http://www.lgbcom.com.br/images/recomeco.pdf</td>\n      <td>RECOMEÇO</td>\n      <td>CURTA</td>\n      <td>undefined</td>\n      <td>undefined</td>\n    </tr>\n    <tr>\n      <th>392</th>\n      <td>http://www.lgbcom.com.br/images/roteiro.pdf</td>\n      <td>ROTEIRO, O</td>\n      <td>CURTA</td>\n      <td>undefined</td>\n      <td>undefined</td>\n    </tr>\n    <tr>\n      <th>393</th>\n      <td>http://www.iesb.br/grad/cinema_midia/arquivos/...</td>\n      <td>TERRA VERMELHA</td>\n      <td>CURTA</td>\n      <td>undefined</td>\n      <td>undefined</td>\n    </tr>\n    <tr>\n      <th>394</th>\n      <td>http://triplov.com/leiradella/3-chopes/3chopes...</td>\n      <td>TRÊS CHOPES</td>\n      <td>CURTA</td>\n      <td>3chopes.htm</td>\n      <td>3chopes</td>\n    </tr>\n  </tbody>\n</table>\n<p>395 rows × 5 columns</p>\n</div>"
     },
     "execution_count": 33,
     "metadata": {},
     "output_type": "execute_result"
    }
   ],
   "source": [
    "scplays"
   ],
   "metadata": {
    "collapsed": false,
    "pycharm": {
     "name": "#%%\n"
    }
   }
  },
  {
   "cell_type": "code",
   "execution_count": 34,
   "outputs": [],
   "source": [
    "df_files[\"file_name_short\"] = df_files[\"file_name\"].apply(lambda x: getNameFromFile(x))"
   ],
   "metadata": {
    "collapsed": false,
    "pycharm": {
     "name": "#%%\n"
    }
   }
  },
  {
   "cell_type": "code",
   "execution_count": 35,
   "outputs": [
    {
     "data": {
      "text/plain": "                                 file_name  \\\n0                         12.0.812.891.pdf   \n1                         12.0.812.942.pdf   \n2                         12.0.812.943.pdf   \n3                         12.0.812.978.pdf   \n4                         12.0.813.054.pdf   \n..                                     ...   \n126                  tudoaomesmotempo.docx   \n127            velha_história_roteiro.docx   \n128  veludo_e_cacos-de-vidro_dialogos.docx   \n129            verdades%20e%20ruinas1.docx   \n130                           vinganca.pdf   \n\n                                              text_raw  \\\n0    Untitled-1\\n\\n1\\n\\n4/12/2009, 18:56\\n\\n\nO Caça...   \n1    Untitled-1\\n\\n1\\n\\n10/12/2009, 22:40\\n\\n\nDois ...   \n2    Untitled-10\\n\\n1\\n\\n7/12/2009, 11:39\\n\\n\nO Cas...   \n3    Untitled-4\\n\\n1\\n\\n7/12/2009, 18:07\\n\\n\nComo F...   \n4    Bens Confisc capa.pmd\\n\\n1\\n\\n8/12/2009, 15:16...   \n..                                                 ...   \n126  TUDO AO MESMO TEMPO AGORA\\n\\n\\n\\n\\n\\n\\n\\n\\n\\n\\...   \n127  Velha história\\n\\n\\n\\nAdaptado de um poema de ...   \n128  Veludo\\n\\n          &\\n\\n    Cacos-de-Vidro\\n\\...   \n129  2\\n\\n\\n\\n2\\n\\n\\n\\n\\n\\n\\n\\n\\n\\n\\n\\n\\n\\n\\n\\n\\n\\n...   \n130  “VINGANÇA” \\nUm roteiro  \\nde Marcos Reis \\n\\n...   \n\n                      file_name_short  \n0                        12.0.812.891  \n1                        12.0.812.942  \n2                        12.0.812.943  \n3                        12.0.812.978  \n4                        12.0.813.054  \n..                                ...  \n126                  tudoaomesmotempo  \n127            velha_história_roteiro  \n128  veludo_e_cacos-de-vidro_dialogos  \n129            verdades%20e%20ruinas1  \n130                          vinganca  \n\n[131 rows x 3 columns]",
      "text/html": "<div>\n<style scoped>\n    .dataframe tbody tr th:only-of-type {\n        vertical-align: middle;\n    }\n\n    .dataframe tbody tr th {\n        vertical-align: top;\n    }\n\n    .dataframe thead th {\n        text-align: right;\n    }\n</style>\n<table border=\"1\" class=\"dataframe\">\n  <thead>\n    <tr style=\"text-align: right;\">\n      <th></th>\n      <th>file_name</th>\n      <th>text_raw</th>\n      <th>file_name_short</th>\n    </tr>\n  </thead>\n  <tbody>\n    <tr>\n      <th>0</th>\n      <td>12.0.812.891.pdf</td>\n      <td>Untitled-1\\n\\n1\\n\\n4/12/2009, 18:56\\n\\n\fO Caça...</td>\n      <td>12.0.812.891</td>\n    </tr>\n    <tr>\n      <th>1</th>\n      <td>12.0.812.942.pdf</td>\n      <td>Untitled-1\\n\\n1\\n\\n10/12/2009, 22:40\\n\\n\fDois ...</td>\n      <td>12.0.812.942</td>\n    </tr>\n    <tr>\n      <th>2</th>\n      <td>12.0.812.943.pdf</td>\n      <td>Untitled-10\\n\\n1\\n\\n7/12/2009, 11:39\\n\\n\fO Cas...</td>\n      <td>12.0.812.943</td>\n    </tr>\n    <tr>\n      <th>3</th>\n      <td>12.0.812.978.pdf</td>\n      <td>Untitled-4\\n\\n1\\n\\n7/12/2009, 18:07\\n\\n\fComo F...</td>\n      <td>12.0.812.978</td>\n    </tr>\n    <tr>\n      <th>4</th>\n      <td>12.0.813.054.pdf</td>\n      <td>Bens Confisc capa.pmd\\n\\n1\\n\\n8/12/2009, 15:16...</td>\n      <td>12.0.813.054</td>\n    </tr>\n    <tr>\n      <th>...</th>\n      <td>...</td>\n      <td>...</td>\n      <td>...</td>\n    </tr>\n    <tr>\n      <th>126</th>\n      <td>tudoaomesmotempo.docx</td>\n      <td>TUDO AO MESMO TEMPO AGORA\\n\\n\\n\\n\\n\\n\\n\\n\\n\\n\\...</td>\n      <td>tudoaomesmotempo</td>\n    </tr>\n    <tr>\n      <th>127</th>\n      <td>velha_história_roteiro.docx</td>\n      <td>Velha história\\n\\n\\n\\nAdaptado de um poema de ...</td>\n      <td>velha_história_roteiro</td>\n    </tr>\n    <tr>\n      <th>128</th>\n      <td>veludo_e_cacos-de-vidro_dialogos.docx</td>\n      <td>Veludo\\n\\n          &amp;\\n\\n    Cacos-de-Vidro\\n\\...</td>\n      <td>veludo_e_cacos-de-vidro_dialogos</td>\n    </tr>\n    <tr>\n      <th>129</th>\n      <td>verdades%20e%20ruinas1.docx</td>\n      <td>2\\n\\n\\n\\n2\\n\\n\\n\\n\\n\\n\\n\\n\\n\\n\\n\\n\\n\\n\\n\\n\\n\\n...</td>\n      <td>verdades%20e%20ruinas1</td>\n    </tr>\n    <tr>\n      <th>130</th>\n      <td>vinganca.pdf</td>\n      <td>“VINGANÇA” \\nUm roteiro  \\nde Marcos Reis \\n\\n...</td>\n      <td>vinganca</td>\n    </tr>\n  </tbody>\n</table>\n<p>131 rows × 3 columns</p>\n</div>"
     },
     "execution_count": 35,
     "metadata": {},
     "output_type": "execute_result"
    }
   ],
   "source": [
    "df_files"
   ],
   "metadata": {
    "collapsed": false,
    "pycharm": {
     "name": "#%%\n"
    }
   }
  },
  {
   "cell_type": "code",
   "execution_count": 36,
   "outputs": [],
   "source": [
    "def getMovieName(filename):\n",
    "    try:\n",
    "        movieName = scplays[scplays[\"nome_arquivo\"]==filename][\"filme_nome\"].iloc[0]\n",
    "        return movieName\n",
    "    except:\n",
    "        return \"\""
   ],
   "metadata": {
    "collapsed": false,
    "pycharm": {
     "name": "#%%\n"
    }
   }
  },
  {
   "cell_type": "code",
   "execution_count": 37,
   "outputs": [],
   "source": [
    "df_files[\"movie_name\"] = df_files[\"file_name_short\"].apply(lambda x: getMovieName(x))"
   ],
   "metadata": {
    "collapsed": false,
    "pycharm": {
     "name": "#%%\n"
    }
   }
  },
  {
   "cell_type": "code",
   "execution_count": 38,
   "outputs": [
    {
     "data": {
      "text/plain": "                                 file_name  \\\n0                         12.0.812.891.pdf   \n1                         12.0.812.942.pdf   \n2                         12.0.812.943.pdf   \n3                         12.0.812.978.pdf   \n4                         12.0.813.054.pdf   \n..                                     ...   \n126                  tudoaomesmotempo.docx   \n127            velha_história_roteiro.docx   \n128  veludo_e_cacos-de-vidro_dialogos.docx   \n129            verdades%20e%20ruinas1.docx   \n130                           vinganca.pdf   \n\n                                              text_raw  \\\n0    Untitled-1\\n\\n1\\n\\n4/12/2009, 18:56\\n\\n\nO Caça...   \n1    Untitled-1\\n\\n1\\n\\n10/12/2009, 22:40\\n\\n\nDois ...   \n2    Untitled-10\\n\\n1\\n\\n7/12/2009, 11:39\\n\\n\nO Cas...   \n3    Untitled-4\\n\\n1\\n\\n7/12/2009, 18:07\\n\\n\nComo F...   \n4    Bens Confisc capa.pmd\\n\\n1\\n\\n8/12/2009, 15:16...   \n..                                                 ...   \n126  TUDO AO MESMO TEMPO AGORA\\n\\n\\n\\n\\n\\n\\n\\n\\n\\n\\...   \n127  Velha história\\n\\n\\n\\nAdaptado de um poema de ...   \n128  Veludo\\n\\n          &\\n\\n    Cacos-de-Vidro\\n\\...   \n129  2\\n\\n\\n\\n2\\n\\n\\n\\n\\n\\n\\n\\n\\n\\n\\n\\n\\n\\n\\n\\n\\n\\n...   \n130  “VINGANÇA” \\nUm roteiro  \\nde Marcos Reis \\n\\n...   \n\n                      file_name_short                   movie_name  \n0                        12.0.812.891      CAÇADOR DE DIAMANTES, O  \n1                        12.0.812.942                DOIS CÓRREGOS  \n2                        12.0.812.943     CASO DOS IRMÃOS NAVES, O  \n3                        12.0.812.978  COMO FAZER UM FILME DE AMOR  \n4                        12.0.813.054             BENS CONFISCADOS  \n..                                ...                          ...  \n126                  tudoaomesmotempo    TUDO AO MESMO TEMPO AGORA  \n127            velha_história_roteiro               VELHA HISTÓRIA  \n128  veludo_e_cacos-de-vidro_dialogos      VELUDO & CACOS-DE-VIDRO  \n129            verdades%20e%20ruinas1  VERDADES E RUÍNAS EM UM ATO  \n130                          vinganca                     VINGANÇA  \n\n[131 rows x 4 columns]",
      "text/html": "<div>\n<style scoped>\n    .dataframe tbody tr th:only-of-type {\n        vertical-align: middle;\n    }\n\n    .dataframe tbody tr th {\n        vertical-align: top;\n    }\n\n    .dataframe thead th {\n        text-align: right;\n    }\n</style>\n<table border=\"1\" class=\"dataframe\">\n  <thead>\n    <tr style=\"text-align: right;\">\n      <th></th>\n      <th>file_name</th>\n      <th>text_raw</th>\n      <th>file_name_short</th>\n      <th>movie_name</th>\n    </tr>\n  </thead>\n  <tbody>\n    <tr>\n      <th>0</th>\n      <td>12.0.812.891.pdf</td>\n      <td>Untitled-1\\n\\n1\\n\\n4/12/2009, 18:56\\n\\n\fO Caça...</td>\n      <td>12.0.812.891</td>\n      <td>CAÇADOR DE DIAMANTES, O</td>\n    </tr>\n    <tr>\n      <th>1</th>\n      <td>12.0.812.942.pdf</td>\n      <td>Untitled-1\\n\\n1\\n\\n10/12/2009, 22:40\\n\\n\fDois ...</td>\n      <td>12.0.812.942</td>\n      <td>DOIS CÓRREGOS</td>\n    </tr>\n    <tr>\n      <th>2</th>\n      <td>12.0.812.943.pdf</td>\n      <td>Untitled-10\\n\\n1\\n\\n7/12/2009, 11:39\\n\\n\fO Cas...</td>\n      <td>12.0.812.943</td>\n      <td>CASO DOS IRMÃOS NAVES, O</td>\n    </tr>\n    <tr>\n      <th>3</th>\n      <td>12.0.812.978.pdf</td>\n      <td>Untitled-4\\n\\n1\\n\\n7/12/2009, 18:07\\n\\n\fComo F...</td>\n      <td>12.0.812.978</td>\n      <td>COMO FAZER UM FILME DE AMOR</td>\n    </tr>\n    <tr>\n      <th>4</th>\n      <td>12.0.813.054.pdf</td>\n      <td>Bens Confisc capa.pmd\\n\\n1\\n\\n8/12/2009, 15:16...</td>\n      <td>12.0.813.054</td>\n      <td>BENS CONFISCADOS</td>\n    </tr>\n    <tr>\n      <th>...</th>\n      <td>...</td>\n      <td>...</td>\n      <td>...</td>\n      <td>...</td>\n    </tr>\n    <tr>\n      <th>126</th>\n      <td>tudoaomesmotempo.docx</td>\n      <td>TUDO AO MESMO TEMPO AGORA\\n\\n\\n\\n\\n\\n\\n\\n\\n\\n\\...</td>\n      <td>tudoaomesmotempo</td>\n      <td>TUDO AO MESMO TEMPO AGORA</td>\n    </tr>\n    <tr>\n      <th>127</th>\n      <td>velha_história_roteiro.docx</td>\n      <td>Velha história\\n\\n\\n\\nAdaptado de um poema de ...</td>\n      <td>velha_história_roteiro</td>\n      <td>VELHA HISTÓRIA</td>\n    </tr>\n    <tr>\n      <th>128</th>\n      <td>veludo_e_cacos-de-vidro_dialogos.docx</td>\n      <td>Veludo\\n\\n          &amp;\\n\\n    Cacos-de-Vidro\\n\\...</td>\n      <td>veludo_e_cacos-de-vidro_dialogos</td>\n      <td>VELUDO &amp; CACOS-DE-VIDRO</td>\n    </tr>\n    <tr>\n      <th>129</th>\n      <td>verdades%20e%20ruinas1.docx</td>\n      <td>2\\n\\n\\n\\n2\\n\\n\\n\\n\\n\\n\\n\\n\\n\\n\\n\\n\\n\\n\\n\\n\\n\\n...</td>\n      <td>verdades%20e%20ruinas1</td>\n      <td>VERDADES E RUÍNAS EM UM ATO</td>\n    </tr>\n    <tr>\n      <th>130</th>\n      <td>vinganca.pdf</td>\n      <td>“VINGANÇA” \\nUm roteiro  \\nde Marcos Reis \\n\\n...</td>\n      <td>vinganca</td>\n      <td>VINGANÇA</td>\n    </tr>\n  </tbody>\n</table>\n<p>131 rows × 4 columns</p>\n</div>"
     },
     "execution_count": 38,
     "metadata": {},
     "output_type": "execute_result"
    }
   ],
   "source": [
    "df_files"
   ],
   "metadata": {
    "collapsed": false,
    "pycharm": {
     "name": "#%%\n"
    }
   }
  },
  {
   "cell_type": "code",
   "execution_count": 58,
   "outputs": [],
   "source": [
    "def removeEscapes(txt):\n",
    "    return txt.replace(\"\\n\",\" \").replace(\"\\t\",\" \").replace(\"\\f\",\" \")"
   ],
   "metadata": {
    "collapsed": false,
    "pycharm": {
     "name": "#%%\n"
    }
   }
  },
  {
   "cell_type": "code",
   "execution_count": 59,
   "outputs": [],
   "source": [
    "df_files[\"text_raw\"] = df_files[\"text_raw\"].apply(lambda x: removeEscapes(x))"
   ],
   "metadata": {
    "collapsed": false,
    "pycharm": {
     "name": "#%%\n"
    }
   }
  },
  {
   "cell_type": "code",
   "execution_count": 60,
   "outputs": [
    {
     "data": {
      "text/plain": "                                 file_name  \\\n0                         12.0.812.891.pdf   \n1                         12.0.812.942.pdf   \n2                         12.0.812.943.pdf   \n3                         12.0.812.978.pdf   \n4                         12.0.813.054.pdf   \n..                                     ...   \n126                  tudoaomesmotempo.docx   \n127            velha_história_roteiro.docx   \n128  veludo_e_cacos-de-vidro_dialogos.docx   \n129            verdades%20e%20ruinas1.docx   \n130                           vinganca.pdf   \n\n                                              text_raw  \\\n0    Untitled-1  1  4/12/2009, 18:56   O Caçador de...   \n1    Untitled-1  1  10/12/2009, 22:40   Dois  Córre...   \n2    Untitled-10  1  7/12/2009, 11:39   O Caso dos ...   \n3    Untitled-4  1  7/12/2009, 18:07   Como Fazer u...   \n4    Bens Confisc capa.pmd  1  8/12/2009, 15:16   B...   \n..                                                 ...   \n126  TUDO AO MESMO TEMPO AGORA                     ...   \n127  Velha história    Adaptado de um poema de Mári...   \n128  Veludo            &      Cacos-de-Vidro      (...   \n129  2    2                                Verdades...   \n130  “VINGANÇA”  Um roteiro   de Marcos Reis   Copy...   \n\n                      file_name_short                   movie_name  \n0                        12.0.812.891      CAÇADOR DE DIAMANTES, O  \n1                        12.0.812.942                DOIS CÓRREGOS  \n2                        12.0.812.943     CASO DOS IRMÃOS NAVES, O  \n3                        12.0.812.978  COMO FAZER UM FILME DE AMOR  \n4                        12.0.813.054             BENS CONFISCADOS  \n..                                ...                          ...  \n126                  tudoaomesmotempo    TUDO AO MESMO TEMPO AGORA  \n127            velha_história_roteiro               VELHA HISTÓRIA  \n128  veludo_e_cacos-de-vidro_dialogos      VELUDO & CACOS-DE-VIDRO  \n129            verdades%20e%20ruinas1  VERDADES E RUÍNAS EM UM ATO  \n130                          vinganca                     VINGANÇA  \n\n[129 rows x 4 columns]",
      "text/html": "<div>\n<style scoped>\n    .dataframe tbody tr th:only-of-type {\n        vertical-align: middle;\n    }\n\n    .dataframe tbody tr th {\n        vertical-align: top;\n    }\n\n    .dataframe thead th {\n        text-align: right;\n    }\n</style>\n<table border=\"1\" class=\"dataframe\">\n  <thead>\n    <tr style=\"text-align: right;\">\n      <th></th>\n      <th>file_name</th>\n      <th>text_raw</th>\n      <th>file_name_short</th>\n      <th>movie_name</th>\n    </tr>\n  </thead>\n  <tbody>\n    <tr>\n      <th>0</th>\n      <td>12.0.812.891.pdf</td>\n      <td>Untitled-1  1  4/12/2009, 18:56   O Caçador de...</td>\n      <td>12.0.812.891</td>\n      <td>CAÇADOR DE DIAMANTES, O</td>\n    </tr>\n    <tr>\n      <th>1</th>\n      <td>12.0.812.942.pdf</td>\n      <td>Untitled-1  1  10/12/2009, 22:40   Dois  Córre...</td>\n      <td>12.0.812.942</td>\n      <td>DOIS CÓRREGOS</td>\n    </tr>\n    <tr>\n      <th>2</th>\n      <td>12.0.812.943.pdf</td>\n      <td>Untitled-10  1  7/12/2009, 11:39   O Caso dos ...</td>\n      <td>12.0.812.943</td>\n      <td>CASO DOS IRMÃOS NAVES, O</td>\n    </tr>\n    <tr>\n      <th>3</th>\n      <td>12.0.812.978.pdf</td>\n      <td>Untitled-4  1  7/12/2009, 18:07   Como Fazer u...</td>\n      <td>12.0.812.978</td>\n      <td>COMO FAZER UM FILME DE AMOR</td>\n    </tr>\n    <tr>\n      <th>4</th>\n      <td>12.0.813.054.pdf</td>\n      <td>Bens Confisc capa.pmd  1  8/12/2009, 15:16   B...</td>\n      <td>12.0.813.054</td>\n      <td>BENS CONFISCADOS</td>\n    </tr>\n    <tr>\n      <th>...</th>\n      <td>...</td>\n      <td>...</td>\n      <td>...</td>\n      <td>...</td>\n    </tr>\n    <tr>\n      <th>126</th>\n      <td>tudoaomesmotempo.docx</td>\n      <td>TUDO AO MESMO TEMPO AGORA                     ...</td>\n      <td>tudoaomesmotempo</td>\n      <td>TUDO AO MESMO TEMPO AGORA</td>\n    </tr>\n    <tr>\n      <th>127</th>\n      <td>velha_história_roteiro.docx</td>\n      <td>Velha história    Adaptado de um poema de Mári...</td>\n      <td>velha_história_roteiro</td>\n      <td>VELHA HISTÓRIA</td>\n    </tr>\n    <tr>\n      <th>128</th>\n      <td>veludo_e_cacos-de-vidro_dialogos.docx</td>\n      <td>Veludo            &amp;      Cacos-de-Vidro      (...</td>\n      <td>veludo_e_cacos-de-vidro_dialogos</td>\n      <td>VELUDO &amp; CACOS-DE-VIDRO</td>\n    </tr>\n    <tr>\n      <th>129</th>\n      <td>verdades%20e%20ruinas1.docx</td>\n      <td>2    2                                Verdades...</td>\n      <td>verdades%20e%20ruinas1</td>\n      <td>VERDADES E RUÍNAS EM UM ATO</td>\n    </tr>\n    <tr>\n      <th>130</th>\n      <td>vinganca.pdf</td>\n      <td>“VINGANÇA”  Um roteiro   de Marcos Reis   Copy...</td>\n      <td>vinganca</td>\n      <td>VINGANÇA</td>\n    </tr>\n  </tbody>\n</table>\n<p>129 rows × 4 columns</p>\n</div>"
     },
     "execution_count": 60,
     "metadata": {},
     "output_type": "execute_result"
    }
   ],
   "source": [
    "df_files.loc[df_files[\"text_raw\"].str.len() > 100]"
   ],
   "metadata": {
    "collapsed": false,
    "pycharm": {
     "name": "#%%\n"
    }
   }
  },
  {
   "cell_type": "code",
   "execution_count": 61,
   "outputs": [],
   "source": [
    "df_files.to_csv(\"roteiros.csv\")"
   ],
   "metadata": {
    "collapsed": false,
    "pycharm": {
     "name": "#%%\n"
    }
   }
  },
  {
   "cell_type": "code",
   "execution_count": null,
   "outputs": [],
   "source": [],
   "metadata": {
    "collapsed": false,
    "pycharm": {
     "name": "#%%\n"
    }
   }
  }
 ],
 "metadata": {
  "kernelspec": {
   "display_name": "Python 3",
   "language": "python",
   "name": "python3"
  },
  "language_info": {
   "codemirror_mode": {
    "name": "ipython",
    "version": 2
   },
   "file_extension": ".py",
   "mimetype": "text/x-python",
   "name": "python",
   "nbconvert_exporter": "python",
   "pygments_lexer": "ipython2",
   "version": "2.7.6"
  }
 },
 "nbformat": 4,
 "nbformat_minor": 0
}